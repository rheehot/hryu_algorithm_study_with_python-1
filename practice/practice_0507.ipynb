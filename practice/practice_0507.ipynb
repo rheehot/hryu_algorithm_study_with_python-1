{
 "cells": [
  {
   "cell_type": "code",
   "execution_count": 17,
   "metadata": {},
   "outputs": [
    {
     "data": {
      "text/plain": [
       "[3, 7]"
      ]
     },
     "execution_count": 17,
     "metadata": {},
     "output_type": "execute_result"
    }
   ],
   "source": [
    "# 모든 보석이 존재하지 않으면 right 증가\n",
    "# 모든 보석이 존재해 left 증가\n",
    "\n",
    "def solution(gems):\n",
    "    answer = []\n",
    "    visited = set(gems)\n",
    "    shortest = len(gems)+1\n",
    "    left, right = 0, 0\n",
    "    temp = {} # 딕셔너리\n",
    "    \n",
    "    while right < len(gems):\n",
    "        i = gems[right] \n",
    "        if i in temp: # 이미 있으면 딕셔너리에 추가해주기\n",
    "            temp[i]+= 1\n",
    "        else: # 처음 발견된 경우\n",
    "            temp[i] =1\n",
    "        # right가 gem[-1] 까지 이동하면서 최소길이를 찾아야 하기 때문\n",
    "        right+= 1\n",
    "            \n",
    "        if len(temp) == len(visited):\n",
    "#             answer.append((left+1, right+1))\n",
    "            while left < right: # 왼쪽을 증가시키는데, 리미트를 주어 오른쪽 넘어가지않게\n",
    "                j = gems[left]\n",
    "                if temp[j] > 1 : # 하나이상 있을 필요 없으니까\n",
    "                    temp[j] -= 1\n",
    "                    left += 1\n",
    "                    \n",
    "                elif right - left < shortest:\n",
    "                    shortest = right - left\n",
    "                    answer = [left+1, right]\n",
    "                    break\n",
    "                    \n",
    "                else:\n",
    "                    break\n",
    "    return answer\n",
    "    # 길이가 짧은 순으로 오름차순해라, [0]은 최소 거리 좌표\n",
    "#     return sorted(answer, key = lambda x : x[1] - x[0])[0]\n",
    "        \n",
    "solution([\"DIA\", \"RUBY\", \"RUBY\", \"DIA\", \"DIA\", \"EMERALD\", \"SAPPHIRE\", \"DIA\"])"
   ]
  }
 ],
 "metadata": {
  "kernelspec": {
   "display_name": "Python 3",
   "language": "python",
   "name": "python3"
  },
  "language_info": {
   "codemirror_mode": {
    "name": "ipython",
    "version": 3
   },
   "file_extension": ".py",
   "mimetype": "text/x-python",
   "name": "python",
   "nbconvert_exporter": "python",
   "pygments_lexer": "ipython3",
   "version": "3.7.6"
  }
 },
 "nbformat": 4,
 "nbformat_minor": 4
}
