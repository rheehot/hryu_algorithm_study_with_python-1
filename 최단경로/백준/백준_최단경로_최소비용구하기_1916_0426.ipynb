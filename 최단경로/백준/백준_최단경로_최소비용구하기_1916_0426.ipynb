{
 "cells": [
  {
   "cell_type": "markdown",
   "metadata": {},
   "source": [
    "- bfs말고 가중치 있으므로 다익스트라 이용한다\n",
    "- a - b가는 거리의 최소비용(출발도시에서 도착도시까지) \n",
    "\n",
    "<br>\n",
    "\n",
    "- 다익스트라는 특정노드에서 모든 노드까지의 최소비용 구할때 사용   \n",
    "\n",
    "- 시간복잡도 O(ElogV) e: 간선, v: 노드   \n",
    "\n",
    "- 간선 개수 100,000개 , 노드 개수 10000개 까지는 1초안에 해결   \n",
    "\n",
    "### 풀이\n",
    "- 우선순위 큐를 이용한다.. 우선순위 가장 높은(최소비용)원소를 가장 먼저 삭제"
   ]
  },
  {
   "cell_type": "code",
   "execution_count": null,
   "metadata": {},
   "outputs": [],
   "source": [
    "import heapq\n",
    "INF = int(1e9) # 무한을 의미하는 값으로 10억을 설정\n",
    "\n",
    "n = int(input())\n",
    "m = int(input())\n",
    "\n",
    "graph = [[]for i in range(n+1)] \n",
    "distance = [INF] * (n+1) # 최단 거리 테이블\n",
    "\n",
    "# 가중치 입력받기\n",
    "for _ in range(m):\n",
    "    a, b, c = map(int, input().split())\n",
    "    graph[a].append((b,c))\n",
    "\n",
    "start, end = map(int, input().split())\n",
    "\n",
    "def dijkstra(start):\n",
    "    q = []\n",
    "    # 시작노드로 가기 위한 최단경로는 0으로 설정하여, 큐에 삽입\n",
    "    heapq.heappush(q, (0, start)) # 시작노드 1로 봄\n",
    "    distance[start] = 0\n",
    "    \n",
    "    while q:\n",
    "        # 가장 최단 거리 짧은 노드에 대한 정보 꺼낸다\n",
    "        dist, now = heapq.heappop(q)\n",
    "        # 현재 노드가 이미 처리된 적이 있는 노드라면 무시\n",
    "        if distance[now] < dist:\n",
    "            continue\n",
    "        # 현재 노드와 연결된 다른 인접 노드 확인\n",
    "        for i in graph[now]:\n",
    "            cost = dist + i[1] # i[1]은 가중치\n",
    "            # 현재 노드 거쳐서 다른 노드 이동하는 거리 더 짧은 경우\n",
    "            if cost < distance[i[0]]: # i[0] : 도착노드\n",
    "                distance[i[0]] = cost\n",
    "                heapq.heappush(q, ( cost, i[0] ))\n",
    "                \n",
    "dijkstra(start)\n",
    "print(distance[end])\n",
    "        "
   ]
  }
 ],
 "metadata": {
  "kernelspec": {
   "display_name": "Python 3",
   "language": "python",
   "name": "python3"
  },
  "language_info": {
   "codemirror_mode": {
    "name": "ipython",
    "version": 3
   },
   "file_extension": ".py",
   "mimetype": "text/x-python",
   "name": "python",
   "nbconvert_exporter": "python",
   "pygments_lexer": "ipython3",
   "version": "3.7.6"
  }
 },
 "nbformat": 4,
 "nbformat_minor": 4
}
