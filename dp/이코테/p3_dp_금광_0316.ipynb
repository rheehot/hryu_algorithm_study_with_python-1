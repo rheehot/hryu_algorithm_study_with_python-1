{
 "cells": [
  {
   "cell_type": "markdown",
   "metadata": {},
   "source": [
    "- 출력 : 마지막 열에서 얻을 수 있는 최대값\n",
    "- 왼쪽위/ 왼쪽/왼쪽 아래에서 오는 경우 고려\n",
    "~~~\n",
    "2\n",
    "3 4\n",
    "1 3 3 2 2 1 4 1 0 6 4 7\n",
    "4 4\n",
    "1 3 1 5 2 2 4 1 5 0 2 3 0 6 1 2\n",
    "~~~"
   ]
  },
  {
   "cell_type": "code",
   "execution_count": 7,
   "metadata": {},
   "outputs": [
    {
     "name": "stdout",
     "output_type": "stream",
     "text": [
      "2\n",
      " 3 4\n",
      "1 3 3 2 2 1 4 1 0 6 4 7\n",
      "19\n",
      "4 4\n",
      "1 3 1 5 2 2 4 1 5 0 2 3 0 6 1 2\n",
      "16\n"
     ]
    }
   ],
   "source": [
    "t = int(input())\n",
    "for i in range(t):\n",
    "    n, m = map(int, input().split())\n",
    "    array = list(map(int, input().split()))\n",
    "    \n",
    "    # 다이나믹 프로그래밍 위한 2차원 dp 테이블 초기화\n",
    "    # 와우 이런 방법이 신기하다 ...\n",
    "    dp = []\n",
    "    index = 0\n",
    "    for j in range(n):\n",
    "        dp.append(array[index:index+m])\n",
    "        index += m\n",
    "#     dp = [[0]*m for _ in range(n)]\n",
    "\n",
    "    # 다이나믹 진행, 열로 이동하니까 \n",
    "    for k in range(1, m):\n",
    "        for i in range(n):\n",
    "            # 왼쪽 위에서 오는 경우\n",
    "            if i == 0:\n",
    "                left_up = 0\n",
    "            else :\n",
    "                left_up = dp[i-1][k-1]\n",
    "            # 왼쪽 아래 \n",
    "            if i == n-1:\n",
    "                left_down = 0\n",
    "            else : \n",
    "                left_down = dp[i+1][k-1]\n",
    "            # 왼쪽에서 오는 경우\n",
    "            left = dp[i][k-1]\n",
    "            dp[i][k] =  dp[i][k] + max(left_up, left_down, left)\n",
    "    result = 0\n",
    "#     print(dp)\n",
    "# 마지막 열의 행마다 값을 비교해서 최댓값 찾기\n",
    "    for i in range(n):\n",
    "        result = max(result, dp[i][m-1])\n",
    "    print(result)\n"
   ]
  },
  {
   "cell_type": "code",
   "execution_count": null,
   "metadata": {},
   "outputs": [],
   "source": [
    "# 0512 다시 풀어보기\n",
    "t = int(input())\n"
   ]
  }
 ],
 "metadata": {
  "kernelspec": {
   "display_name": "Python 3",
   "language": "python",
   "name": "python3"
  },
  "language_info": {
   "codemirror_mode": {
    "name": "ipython",
    "version": 3
   },
   "file_extension": ".py",
   "mimetype": "text/x-python",
   "name": "python",
   "nbconvert_exporter": "python",
   "pygments_lexer": "ipython3",
   "version": "3.7.6"
  }
 },
 "nbformat": 4,
 "nbformat_minor": 4
}
