{
 "cells": [
  {
   "cell_type": "code",
   "execution_count": 27,
   "metadata": {},
   "outputs": [
    {
     "data": {
      "text/plain": [
       "60420"
      ]
     },
     "execution_count": 27,
     "metadata": {},
     "output_type": "execute_result"
    }
   ],
   "source": [
    "# 연산자의 종류 3 -> 3! = 6, 최대 6개 연산 우선순위\n",
    "# 숫자와 문자열 분리해서 해결\n",
    "# 우선순위가 맞는 연산자의 인덱스를 찾고 기억하기\n",
    "# https://eda-ai-lab.tistory.com/509 참고함 , 다시 풀어보기 내방식대로\n",
    "import re\n",
    "def solution(expression):\n",
    "    answer = []\n",
    "    operators = [\n",
    "        ['*', '+', '-'],\n",
    "        ['*', '-', '+'],\n",
    "        ['+', '-', '*'],\n",
    "        ['+', '*', '-'],\n",
    "        ['-', '*', '+'],\n",
    "        ['-', '+', '*'],\n",
    "    ]\n",
    "    \n",
    "    graph = re.split('([^0-9])', expression) \n",
    "    \n",
    "    arr = []\n",
    "    for i in operators:\n",
    "        ex = graph[:] # deep copy\n",
    "        for j in i:\n",
    "            while j in ex:\n",
    "                tmp = ex.index(j)\n",
    "                ex[tmp-1] = str(eval(ex[tmp-1] + ex[tmp] + ex[tmp+1]))\n",
    "                ex = ex[:tmp] + ex[tmp + 2:]\n",
    "                \n",
    "        arr.append(ex[-1])\n",
    "    return max(abs(int(x)) for x in arr)\n",
    "    \n",
    "\n",
    "\n",
    "solution( \"100-200*300-500+20\")"
   ]
  },
  {
   "cell_type": "code",
   "execution_count": 3,
   "metadata": {},
   "outputs": [
    {
     "name": "stdout",
     "output_type": "stream",
     "text": [
      "['a b c', 'a c b', 'b a c', 'b c a', 'c a b', 'c b a']\n",
      "['a b', 'a c', 'b c']\n"
     ]
    }
   ],
   "source": [
    "# 파이썬 순열 & 조합\n",
    "import itertools\n",
    "\n",
    "pool = ['a', 'b', 'c']\n",
    "print(list(map(' '.join, itertools.permutations(pool))))\n",
    "print(list(map(' '.join, itertools.combinations(pool, 2))))"
   ]
  },
  {
   "cell_type": "code",
   "execution_count": 4,
   "metadata": {},
   "outputs": [
    {
     "name": "stdout",
     "output_type": "stream",
     "text": [
      "['a']\n",
      "['a', 'a']\n",
      "['1', '2', '3', '4', '5', '8']\n",
      "['123', '45', '8']\n"
     ]
    }
   ],
   "source": [
    "# re모듈\n",
    "# findall() : 문자열 안에 패턴에 맞는 케이스 전부 찾아서 리스트로 반환\n",
    "import re\n",
    "\n",
    "print(re.findall('a', 'a'))\n",
    "print(re.findall('a', 'aba'))\n",
    "print(re.findall('\\d', 'sdf123 dfgfdg45 fdsd8'))\n",
    "print(re.findall('\\d+', 'sdf123 dfgfdg45 fdsd8'))"
   ]
  },
  {
   "cell_type": "code",
   "execution_count": 12,
   "metadata": {},
   "outputs": [
    {
     "name": "stdout",
     "output_type": "stream",
     "text": [
      "['100', '-', '200', '*', '300', '-', '500', '+', '20']\n",
      "['-', '*', '-', '+']\n"
     ]
    }
   ],
   "source": [
    "import re\n",
    "def solution(expression):\n",
    "    \n",
    "    ex = re.split('([^0-9])',expression)\n",
    "    operator = re.split('[0-9]+',expression)[1:-1]\n",
    "    print(ex)\n",
    "    print(operator)\n",
    "solution( \"100-200*300-500+20\")"
   ]
  }
 ],
 "metadata": {
  "kernelspec": {
   "display_name": "Python 3",
   "language": "python",
   "name": "python3"
  },
  "language_info": {
   "codemirror_mode": {
    "name": "ipython",
    "version": 3
   },
   "file_extension": ".py",
   "mimetype": "text/x-python",
   "name": "python",
   "nbconvert_exporter": "python",
   "pygments_lexer": "ipython3",
   "version": "3.7.6"
  }
 },
 "nbformat": 4,
 "nbformat_minor": 4
}
