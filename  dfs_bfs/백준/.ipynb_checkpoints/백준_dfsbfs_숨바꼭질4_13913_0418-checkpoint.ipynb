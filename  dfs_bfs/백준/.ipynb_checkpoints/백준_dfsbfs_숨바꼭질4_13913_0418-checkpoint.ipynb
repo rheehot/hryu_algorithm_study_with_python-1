{
 "cells": [
  {
   "cell_type": "code",
   "execution_count": 4,
   "metadata": {},
   "outputs": [
    {
     "name": "stdout",
     "output_type": "stream",
     "text": [
      "5 17\n",
      "1\n",
      "16 17\n"
     ]
    },
    {
     "data": {
      "text/plain": [
       "17"
      ]
     },
     "execution_count": 4,
     "metadata": {},
     "output_type": "execute_result"
    }
   ],
   "source": [
    "# 다시하기\n",
    "\n",
    "from collections import deque\n",
    "n, k = map(int, input().split())\n",
    "max_size = 1000001\n",
    "visited = [-1]*max_size\n",
    "dist = [0]*max_size\n",
    "move = [0]*max_size\n",
    "\n",
    "queue= deque()\n",
    "queue.append(n)\n",
    "visited[n] = 0\n",
    "\n",
    "while queue:\n",
    "    v = queue.popleft()\n",
    "    if v ==k:\n",
    "        break\n",
    "    for i in (v-1, v+1, v*2):\n",
    "        if 0<= i < max_size and visited[i] == -1:\n",
    "            queue.append(i)\n",
    "            dist[i] = dist[v]+1\n",
    "            visited[i] = 0\n",
    "            move[i] = v\n",
    "            \n",
    "def print_location(n, m):\n",
    "    if n != m:\n",
    "        print_location(n, move[m])\n",
    "    print(m, end=\" \")           \n",
    "bfs()"
   ]
  }
 ],
 "metadata": {
  "kernelspec": {
   "display_name": "Python 3",
   "language": "python",
   "name": "python3"
  },
  "language_info": {
   "codemirror_mode": {
    "name": "ipython",
    "version": 3
   },
   "file_extension": ".py",
   "mimetype": "text/x-python",
   "name": "python",
   "nbconvert_exporter": "python",
   "pygments_lexer": "ipython3",
   "version": "3.7.6"
  }
 },
 "nbformat": 4,
 "nbformat_minor": 4
}
