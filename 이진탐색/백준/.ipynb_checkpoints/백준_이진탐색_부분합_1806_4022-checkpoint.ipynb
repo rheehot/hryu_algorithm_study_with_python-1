{
 "cells": [
  {
   "cell_type": "markdown",
   "metadata": {},
   "source": [
    "# 푼다 꼭 오늘!!\n",
    "이진 탐색 : 정렬된 리스트에서 탐색 범위를 절반씩 좁혀가며 탐색, 시작점 중간점 끝점 활용\n",
    "탐색 범위를 단계마다 2로 나누는 것과 동일 -> 연산횟수 log(2)N에 비례\n",
    "시간복잡도 logN\n"
   ]
  },
  {
   "cell_type": "code",
   "execution_count": 5,
   "metadata": {},
   "outputs": [
    {
     "name": "stdout",
     "output_type": "stream",
     "text": [
      "10 15\n",
      "5 1 3 5 10 7 4 9 2 8\n",
      "2\n"
     ]
    }
   ],
   "source": [
    "n, s = map(int, input().split())\n",
    "arr = list(map(int, input().split()))\n",
    "\n",
    "\n",
    "sum = arr[0]\n",
    "length = 1000001\n",
    "low, high = 0, 0\n",
    "\n",
    "while low <= high and high < n:\n",
    "    if sum< s:\n",
    "        sum += arr[high + 1]\n",
    "    elif sum == s:\n",
    "        length = min(length, (high - low + 1))\n",
    "        sum += arr[high + 1]\n",
    "    elif sum > s:\n",
    "        length = min(length, (high - low + 1))\n",
    "        sum -= arr[low] # 연속된 수니까 하나를 뺴자\n",
    "        low += 1 # 이동\n",
    "        \n",
    "if length != 1000001:\n",
    "    print(length+1)\n",
    "else:\n",
    "    print(0)\n",
    "        "
   ]
  }
 ],
 "metadata": {
  "kernelspec": {
   "display_name": "Python 3",
   "language": "python",
   "name": "python3"
  },
  "language_info": {
   "codemirror_mode": {
    "name": "ipython",
    "version": 3
   },
   "file_extension": ".py",
   "mimetype": "text/x-python",
   "name": "python",
   "nbconvert_exporter": "python",
   "pygments_lexer": "ipython3",
   "version": "3.7.6"
  }
 },
 "nbformat": 4,
 "nbformat_minor": 4
}
