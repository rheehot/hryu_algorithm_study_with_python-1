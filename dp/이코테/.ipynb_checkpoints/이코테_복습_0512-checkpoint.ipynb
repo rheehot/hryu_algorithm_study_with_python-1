{
 "cells": [
  {
   "cell_type": "code",
   "execution_count": null,
   "metadata": {},
   "outputs": [],
   "source": [
    "# 개미전사\n",
    "# 식량 창고가 일직선상일 때 최대한 많은 식량 얻기\n",
    "# 인접한 곳은 선택 못함\n",
    "'''\n",
    "4\n",
    "1315 -> 8\n",
    "'''\n",
    "# i번째에서 최적의 해를 구하기 위해서\n",
    "# (i-1번째 식량누적합)과 (i-2번째 식량 누적합+ 현재식량)을 비교한다\n",
    "# i-3번째는 고려할 필요가 없는 것이, 이미 dp테이블로 최적값이 계산되어 있다.\n",
    "# d[i] = max(d[i-1], d[i-2]+k)\n",
    "\n",
    "n = int(input())\n",
    "arr = list(map(int, input().split()))\n",
    "dp = [0]*100\n",
    "\n",
    "dp[0] = arr[0]\n",
    "dp[1] = max(arr[0], arr[1])\n",
    "for i in range(2, n):\n",
    "    dp[i] = max(dp[i-1], dp[i-2]+arr[i])\n",
    "print(dp[n-1])"
   ]
  },
  {
   "cell_type": "code",
   "execution_count": 16,
   "metadata": {},
   "outputs": [
    {
     "name": "stdout",
     "output_type": "stream",
     "text": [
      "2\n",
      "3 4\n",
      "1 3 3 2 2 1 4 1 0 6 4 7\n",
      "19\n",
      "4 4\n",
      "1 3 1 5 2 2 4 1 5 0 2 3 0 6 1 2\n",
      "15\n"
     ]
    }
   ],
   "source": [
    "# 0512 다시 풀어보기\n",
    "# 금광\n",
    "t = int(input())\n",
    "for _ in range(t):\n",
    "    n, m = map(int, input().split())\n",
    "    arr = list(map(int, input().split()))\n",
    "    # 이부분 꼭 기억하기 리스트 -> 인접행렬 만들기\n",
    "    temp = []\n",
    "    for i in range(0, n*m, m):\n",
    "        temp.append(list(arr[i:i+m]))\n",
    "    dp = [[0]*m for _ in range(n)]\n",
    "    \n",
    "    # 실수 dp랑 temp 테이블 값을 일부 복사해줘야 - dp는 누적시켜야 함\n",
    "    for i in range(n):\n",
    "        dp[i][0] = temp[i][0]\n",
    "    \n",
    "    for i in range(1, m): # 열\n",
    "        for j in range(n): # 행\n",
    "            k = temp[j][i]\n",
    "            if j ==0:\n",
    "                dp[j][i] = max(dp[j][i-1], dp[j+1][i-1])+k\n",
    "            elif 0< j < n-1:\n",
    "                dp[j][i] = max(dp[j+1][i-1], dp[j][i-1], dp[j-1][i-1])+k\n",
    "            elif j == n-1:\n",
    "                dp[j][i] = max(dp[j-1][i-1], dp[j][i-1])+k\n",
    "    print(max(dp[:][-1]))\n",
    "    "
   ]
  },
  {
   "cell_type": "markdown",
   "metadata": {},
   "source": [
    "병사 배치하기\n",
    "\n",
    "LIS (longest increasing subsequence) : 가장 긴 증가하는 부분 수열  \n",
    "하나의 수열이 주어졌을 때 값들이 증가하는 형태의 가장 긴 부분 수열 문제  \n",
    "dp[i ] = array[ i]를 마지막 원소로 가지는 부분 수열의 최대 길이\n",
    "처음에 dp 테이블의 값은 1로 초기화\n",
    "모든 0<=j <i에 대하여, dp[i ] = max(dp[ i], dp[ j]+1) if array[j ]< array[i ]\n"
   ]
  },
  {
   "cell_type": "code",
   "execution_count": 17,
   "metadata": {},
   "outputs": [
    {
     "name": "stdout",
     "output_type": "stream",
     "text": [
      "7\n",
      "15 11 4 8 5 2 4\n",
      "2\n"
     ]
    }
   ],
   "source": [
    "# 병사배치하기\n",
    "n = int(input())\n",
    "array = list(map(int, input().split()))\n",
    "# 순서를 뒤집어 '가장 긴 증가하는 부분 수열 ' 문제로 변환\n",
    "array.reverse()\n",
    "\n",
    "# 다이나믹 프로그래밍을 위한 1차원 dp테이블 초기화\n",
    "dp = [1] * n\n",
    "\n",
    "# 가장 긴 증가하는 부분 수열 알고리즘\n",
    "for i in range(1, n):\n",
    "    for j in range(0, i):\n",
    "        if array[i] > array[j]:\n",
    "            dp[i] = max(dp[i], dp[j]+1)\n",
    "print(n - max(dp))"
   ]
  },
  {
   "cell_type": "code",
   "execution_count": 53,
   "metadata": {},
   "outputs": [
    {
     "name": "stdout",
     "output_type": "stream",
     "text": [
      "14\n",
      "20\n"
     ]
    }
   ],
   "source": [
    "# 못생긴수 .. 이건 dp가 아니다..어쩃든 풀었다\n",
    "n = int(input())\n",
    "dp = [0]*1001\n",
    "dp[1] =1\n",
    "cnt =1\n",
    "if n==1:\n",
    "    print(1)\n",
    "else:\n",
    "    for i in range(2, 1001):\n",
    "        \n",
    "        if i %2 ==0 and dp[i//2] !=0:\n",
    "            cnt += 1\n",
    "            dp[i] = cnt\n",
    "        elif i %3 ==0 and dp[i//3] !=0:\n",
    "            cnt += 1\n",
    "            dp[i] = cnt\n",
    "        elif i %5 ==0 and dp[i//5] !=0:\n",
    "            cnt += 1\n",
    "            dp[i] = cnt\n",
    "\n",
    "    print(dp.index(n))\n",
    "            "
   ]
  },
  {
   "cell_type": "markdown",
   "metadata": {},
   "source": [
    "못생긴수 1\n",
    "1*2 = 2\n",
    "1*3 = 3\n",
    "1*5 = 5\n",
    "못생긴 수 2,3,5 생성 => 1 2 3 5\n",
    "못생긴수 2\n",
    "2*2 = 4\n",
    "2*3 = 6\n",
    "2*5 = 10 \n",
    "못생긴수 4, 6, 10 생성 => 전체 1 2 3 4 5 6 10\n",
    "못생긴수 3\n",
    "3*2 = 6\n",
    "3*3 = 9\n",
    "3*5 = 15 6, 9, 15 생성 => 전체 1 2 3 4 5 6 9 10 15\n",
    "못생긴수 5\n",
    "5*2 = 10\n",
    "5*3 = 15\n",
    "5*5 = 25 \n",
    ".. 이런식으로 못생긴수에 2,3,5를 곱한 수가 못생긴수 \n",
    "2, 3, 5 배수 변수에 대해 오름차순으로 확인, 각 배수를 곱한 값도 못생긴 수  "
   ]
  },
  {
   "cell_type": "code",
   "execution_count": 49,
   "metadata": {},
   "outputs": [
    {
     "name": "stdout",
     "output_type": "stream",
     "text": [
      "10\n",
      "12\n"
     ]
    }
   ],
   "source": [
    "# 너무 어려워 이해 못함\n",
    "n = int(input())\n",
    "dp = [0]*n # 못생긴 수 담는 dp\n",
    "dp[0] = 1 # 첫번째 못생긴 수 1\n",
    "\n",
    "# 2배, 3배, 5배를 위한 인덱스\n",
    "i2 = i3 = i5 = 0\n",
    "# 처음에 곱셈값을 초기화\n",
    "next2, next3, next5 = 2, 3, 5\n",
    "\n",
    "# 1부터 n까지의 못생긴 수를 찾기\n",
    "for i in range(1, n):\n",
    "    # 가능한 곱셈 결과 중에서 가장 작은 수를 선택\n",
    "    # dp[1] = 2, dp[2] = 3, \n",
    "    dp[i] = min(next2, next3, next5)\n",
    "    # 인덱스에 따라 곱셈 결과 증가\n",
    "    if dp[i] == next2:\n",
    "        i2 += 1\n",
    "        next2 = dp[i2] * 2 # dp[1] *2 = 4 d[3]=4로 8\n",
    "    if dp[i] == next3:\n",
    "        i3 += 1\n",
    "        next3 = dp[i3] * 3 # dp[1]*3 = 6  ..\n",
    "    if dp[i] == next5:\n",
    "        i5 += 1\n",
    "        next5 = dp[i5] * 5# dp[1]*5 = 10 20...\n",
    "        \n",
    "print(dp[n-1])        \n"
   ]
  },
  {
   "cell_type": "code",
   "execution_count": null,
   "metadata": {},
   "outputs": [],
   "source": [
    "# 이코테 편집거리 - 백준 편집거리도 풀어보기\n",
    "s = input()\n",
    "\n"
   ]
  }
 ],
 "metadata": {
  "kernelspec": {
   "display_name": "Python 3",
   "language": "python",
   "name": "python3"
  },
  "language_info": {
   "codemirror_mode": {
    "name": "ipython",
    "version": 3
   },
   "file_extension": ".py",
   "mimetype": "text/x-python",
   "name": "python",
   "nbconvert_exporter": "python",
   "pygments_lexer": "ipython3",
   "version": "3.7.6"
  }
 },
 "nbformat": 4,
 "nbformat_minor": 4
}
