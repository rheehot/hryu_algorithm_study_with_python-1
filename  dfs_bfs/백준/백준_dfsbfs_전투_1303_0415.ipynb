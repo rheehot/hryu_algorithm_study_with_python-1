{
 "cells": [
  {
   "cell_type": "code",
   "execution_count": null,
   "metadata": {},
   "outputs": [],
   "source": [
    "# bfs 문제 ?"
   ]
  },
  {
   "cell_type": "code",
   "execution_count": 17,
   "metadata": {},
   "outputs": [
    {
     "name": "stdout",
     "output_type": "stream",
     "text": [
      "3 3\n",
      "WWW\n",
      "WWW\n",
      "WWB\n",
      "64 1\n"
     ]
    }
   ],
   "source": [
    "from collections import deque\n",
    "n, m = map(int, input().split())\n",
    "graph = [list(map(str, input())) for _ in range(m)]\n",
    "visited = [[0]*n for _ in range(m)]\n",
    "dx = [-1, 1, 0, 0]\n",
    "dy = [0, 0, -1, 1]\n",
    "\n",
    "def bfs():\n",
    "    q = deque()\n",
    "    q.append((i,j))\n",
    "    visited[i][j] = 1 # 사입하고 방문처리 깜빡하지 말기\n",
    "    \n",
    "    cnt =1\n",
    "    while q:\n",
    "        x, y = q.popleft()\n",
    "        \n",
    "        for t in range(4):\n",
    "            nx = x + dx[t]\n",
    "            ny = y + dy[t]\n",
    "            if nx >= 0 and nx < m and ny >=0 and ny<n and graph[nx][ny]== graph[x][y] and visited[nx][ny]==0:\n",
    "                q.append((nx, ny))\n",
    "                visited[nx][ny] = 1\n",
    "                cnt += 1\n",
    "    return cnt\n",
    "\n",
    "W, B = 0, 0\n",
    "for i in range(m):\n",
    "    for j in range(n):\n",
    "        if visited[i][j] == 0:\n",
    "            result = bfs()\n",
    "            if graph[i][j] ==\"W\": \n",
    "                W += result ** 2\n",
    "            else: \n",
    "                B += result ** 2\n",
    "                \n",
    "print(W, B)\n"
   ]
  }
 ],
 "metadata": {
  "kernelspec": {
   "display_name": "Python 3",
   "language": "python",
   "name": "python3"
  },
  "language_info": {
   "codemirror_mode": {
    "name": "ipython",
    "version": 3
   },
   "file_extension": ".py",
   "mimetype": "text/x-python",
   "name": "python",
   "nbconvert_exporter": "python",
   "pygments_lexer": "ipython3",
   "version": "3.7.6"
  }
 },
 "nbformat": 4,
 "nbformat_minor": 4
}
