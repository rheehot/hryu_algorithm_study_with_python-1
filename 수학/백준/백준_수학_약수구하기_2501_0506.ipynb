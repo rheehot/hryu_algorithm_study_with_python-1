{
 "cells": [
  {
   "cell_type": "code",
   "execution_count": 3,
   "metadata": {},
   "outputs": [
    {
     "name": "stdout",
     "output_type": "stream",
     "text": [
      "10 7\n",
      "0\n"
     ]
    }
   ],
   "source": [
    "n, k = map(int,input().split())\n",
    "\n",
    "m = 1\n",
    "cnt = 0\n",
    "flag = False\n",
    "\n",
    "while m <= n:\n",
    "    if n % m == 0:\n",
    "        cnt += 1\n",
    "    if cnt == k:\n",
    "        flag = True\n",
    "        break\n",
    "    m += 1\n",
    "    \n",
    "if flag ==True:\n",
    "    print(m)\n",
    "else:\n",
    "    print(0)\n",
    "    "
   ]
  }
 ],
 "metadata": {
  "kernelspec": {
   "display_name": "Python 3",
   "language": "python",
   "name": "python3"
  },
  "language_info": {
   "codemirror_mode": {
    "name": "ipython",
    "version": 3
   },
   "file_extension": ".py",
   "mimetype": "text/x-python",
   "name": "python",
   "nbconvert_exporter": "python",
   "pygments_lexer": "ipython3",
   "version": "3.7.6"
  }
 },
 "nbformat": 4,
 "nbformat_minor": 4
}
