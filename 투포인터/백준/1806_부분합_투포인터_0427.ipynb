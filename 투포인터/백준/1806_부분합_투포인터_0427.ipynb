{
 "cells": [
  {
   "cell_type": "code",
   "execution_count": 3,
   "metadata": {},
   "outputs": [
    {
     "name": "stdout",
     "output_type": "stream",
     "text": [
      "10 15\n",
      "5 1 3 5 10 7 4 9 2 8\n",
      "2\n"
     ]
    }
   ],
   "source": [
    "'''\n",
    "1. right를 하나씩 이동하면서 temp에 누적\n",
    "2. temp값이 s이상이라면\n",
    "    result에 최소 길이 구해주고\n",
    "    temp에서 left 빼고, left 오른쪽으로 한칸 이동\n",
    "3. right가 배열의 끝에 다다를 때까지 반복\n",
    "'''\n",
    "\n",
    "n, s = map(int, input().split())\n",
    "arr = list(map(int, input().split()))\n",
    "\n",
    "left, right = 0, 0\n",
    "temp = 0\n",
    "result = n+1\n",
    "\n",
    "while True:\n",
    "\n",
    "    # 크거나 같으면 최소 길이 구한다\n",
    "    if temp >= s:\n",
    "        result = min(result, right-left)\n",
    "        temp -= arr[left]\n",
    "        left += 1\n",
    "\n",
    "    elif right == n:\n",
    "        break\n",
    "\n",
    "    else:\n",
    "        temp += arr[right]\n",
    "        right += 1\n",
    "\n",
    "if result == n+1:\n",
    "    print(0)\n",
    "else:\n",
    "    print(result)"
   ]
  }
 ],
 "metadata": {
  "kernelspec": {
   "display_name": "Python 3",
   "language": "python",
   "name": "python3"
  },
  "language_info": {
   "codemirror_mode": {
    "name": "ipython",
    "version": 3
   },
   "file_extension": ".py",
   "mimetype": "text/x-python",
   "name": "python",
   "nbconvert_exporter": "python",
   "pygments_lexer": "ipython3",
   "version": "3.7.6"
  }
 },
 "nbformat": 4,
 "nbformat_minor": 4
}
