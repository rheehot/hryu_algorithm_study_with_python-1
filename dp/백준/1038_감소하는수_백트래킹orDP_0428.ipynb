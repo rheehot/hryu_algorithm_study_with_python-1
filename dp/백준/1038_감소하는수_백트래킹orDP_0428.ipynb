{
 "cells": [
  {
   "cell_type": "code",
   "execution_count": null,
   "metadata": {},
   "outputs": [],
   "source": [
    "# n번째 감소하는 수 구해라\n",
    "# 가장 큰 자릿수부터 작은 자릿수까지 감소하면 감소하는 수\n",
    "# 18 -> 42 | 1 2 3 4 5 6 7 8 9 10    20 21 30 31 32 40 41 42  \n",
    "# n번째 감소하는 수는 42\n",
    "# n은 1,000,000보다 작거나 같은 자연수\n",
    "# 백트래킹으로도 가능하다고 함..  ddd"
   ]
  },
  {
   "cell_type": "markdown",
   "metadata": {
    "scrolled": true
   },
   "source": [
    "- dp로 해결 \n",
    "- 큐에 들어가는 수 [1,2,3,4,5,6,7,8,9,10, 20, 21,30, 31,32, 40, 41,42,43.. ]\n",
    "- cnt는 큐에 수 하나씩 삽입될때마다 카운트\n",
    "- 더작은 숫자들을 우선적으로 넣어주고, 작은 숫자들을 먼저 가져오면서 연산 반복\n",
    "-  큐를 이용한 이유이다 \n",
    "\n",
    "<br>\n",
    "1.끝자리 숫자 구한다 last    \n",
    "2. 0~ last-1 까지의 숫자를 뒤에 추가적으로 붙여줌      \n",
    "3. 2의 과정에서 생성된 새로운 숫자를 큐에 넣어줌   "
   ]
  },
  {
   "cell_type": "code",
   "execution_count": 8,
   "metadata": {},
   "outputs": [
    {
     "name": "stdout",
     "output_type": "stream",
     "text": [
      "1022\n",
      "9876543210\n"
     ]
    }
   ],
   "source": [
    "from collections import deque \n",
    "\n",
    "def solve():\n",
    "    global answer\n",
    "    dp = [0]*1023\n",
    "    \n",
    "    q = deque()\n",
    "    \n",
    "    if 0 <= n <= 9:\n",
    "        answer = n\n",
    "        return\n",
    "    \n",
    "    for i in range(10):\n",
    "        q.append(i)\n",
    "        dp[i] = i\n",
    "    \n",
    "    num = 0\n",
    "    last = 0 # 끝자리 숫자\n",
    "    cnt = 10 # 0 ~9 까지는 위에서 조건문 처리\n",
    "    while cnt <= n and q: # 1_ 10 / 2_ 20 21/ 3_ 30 31 32 / 4_ 40 41 42 43 .../ 4\n",
    "        num = q.popleft()\n",
    "        last = num % 10\n",
    "        \n",
    "        for i in range(last):\n",
    "            q.append(num*10+i) # 내림차순인 숫자를 큐에 삽입\n",
    "            dp[cnt] = num*10 + i\n",
    "            cnt += 1\n",
    "    \n",
    "    if cnt >= n and dp[n]!= 0:\n",
    "        answer =dp[n]\n",
    "        return \n",
    "    else:\n",
    "        answer = -1\n",
    "        return \n",
    "    \n",
    "answer = 0    \n",
    "n = int(input()) \n",
    "\n",
    "if n >= 1023:  # 1022: 9876543210\n",
    "    print(-1)  # N번째 감소하는 수 x\n",
    "else: \n",
    "    solve()    \n",
    "    print(answer)  \n",
    "\n"
   ]
  }
 ],
 "metadata": {
  "kernelspec": {
   "display_name": "Python 3",
   "language": "python",
   "name": "python3"
  },
  "language_info": {
   "codemirror_mode": {
    "name": "ipython",
    "version": 3
   },
   "file_extension": ".py",
   "mimetype": "text/x-python",
   "name": "python",
   "nbconvert_exporter": "python",
   "pygments_lexer": "ipython3",
   "version": "3.7.6"
  }
 },
 "nbformat": 4,
 "nbformat_minor": 4
}
