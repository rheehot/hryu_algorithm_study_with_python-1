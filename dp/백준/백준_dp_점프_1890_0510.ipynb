{
 "cells": [
  {
   "cell_type": "code",
   "execution_count": 5,
   "metadata": {},
   "outputs": [
    {
     "name": "stdout",
     "output_type": "stream",
     "text": [
      "4\n",
      "2 3 3 1\n",
      "1 2 1 3\n",
      "1 2 3 1\n",
      "3 1 1 0\n",
      "3\n"
     ]
    }
   ],
   "source": [
    "# a,b에서 c로 갈 수 있다면,\n",
    "# a , b에서 c로 가는 경로의 수 = a까지 경로의 수 + b까지 경로의 수\n",
    "n =int(input())\n",
    "graph = [list(map(int, input().split())) for _ in range(n) ]\n",
    "\n",
    "visited = [[0]*n for _ in range(n)]\n",
    "\n",
    "def dp(graph, visited):\n",
    "    visited[0][0] =1\n",
    "    for i in range(n): # 행 : 세로\n",
    "        for j in range(n): #  열 : 가로\n",
    "            if i == n-1 and j == n-1:\n",
    "                return \n",
    "            \n",
    "            temp = graph[i][j]\n",
    "            # 오른쪽 가거나 밑으로 가거나\n",
    "            nx = i + temp\n",
    "            ny = j + temp\n",
    "            \n",
    "            if nx < n:\n",
    "                visited[nx][j] += visited[i][j]\n",
    "            if ny < n:\n",
    "                visited[i][ny] += visited[i][j]\n",
    "            \n",
    "dp(graph, visited)\n",
    "print(visited[n-1][n-1])"
   ]
  }
 ],
 "metadata": {
  "kernelspec": {
   "display_name": "Python 3",
   "language": "python",
   "name": "python3"
  },
  "language_info": {
   "codemirror_mode": {
    "name": "ipython",
    "version": 3
   },
   "file_extension": ".py",
   "mimetype": "text/x-python",
   "name": "python",
   "nbconvert_exporter": "python",
   "pygments_lexer": "ipython3",
   "version": "3.7.6"
  }
 },
 "nbformat": 4,
 "nbformat_minor": 4
}
