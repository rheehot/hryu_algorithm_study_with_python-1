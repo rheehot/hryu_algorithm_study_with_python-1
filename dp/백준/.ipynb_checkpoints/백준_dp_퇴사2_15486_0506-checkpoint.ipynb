{
 "cells": [
  {
   "cell_type": "code",
   "execution_count": 3,
   "metadata": {},
   "outputs": [
    {
     "name": "stdout",
     "output_type": "stream",
     "text": [
      "7\n",
      "3 10\n",
      "5 20\n",
      "1 10\n",
      "1 20\n",
      "2 15\n",
      "4 40\n",
      "2 200\n",
      "45\n"
     ]
    }
   ],
   "source": [
    "n = int(input())\n",
    "t,p = [0]*n, [0]*n\n",
    "max_i = int(1e7)\n",
    "for i in  range(n):\n",
    "    t[i], p[i] = map(int, input().split())\n",
    "    \n",
    "d= [0]*max_i\n",
    "for i in range(n):\n",
    "    # 현재가 다음날보다 보상이 높다면\n",
    "    if d[i] > d[i+1]:\n",
    "        d[i+1]= d[i]\n",
    "    # 현재 기준으로 t일 후에 받게 될 금액이 상담 수행해서 받게 될 금액보다 적다면\n",
    "    if d[i+t[i]] < d[i] + p[i]:\n",
    "        d[i+t[i]] = d[i] + p[i]\n",
    "        \n",
    "print(d[n-1])"
   ]
  }
 ],
 "metadata": {
  "kernelspec": {
   "display_name": "Python 3",
   "language": "python",
   "name": "python3"
  },
  "language_info": {
   "codemirror_mode": {
    "name": "ipython",
    "version": 3
   },
   "file_extension": ".py",
   "mimetype": "text/x-python",
   "name": "python",
   "nbconvert_exporter": "python",
   "pygments_lexer": "ipython3",
   "version": "3.7.6"
  }
 },
 "nbformat": 4,
 "nbformat_minor": 4
}
