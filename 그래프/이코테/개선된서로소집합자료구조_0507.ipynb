{
 "cells": [
  {
   "cell_type": "code",
   "execution_count": 1,
   "metadata": {},
   "outputs": [
    {
     "name": "stdout",
     "output_type": "stream",
     "text": [
      "6 4\n",
      "1 3\n",
      "2 4\n",
      "5 6\n",
      "2 3\n",
      "각 원소가 속한 집합 출력 1 1 1 1 5 5 \n",
      "부모 테이블 1 1 1 1 5 5 "
     ]
    }
   ],
   "source": [
    "# 특정 원소가 속한 집합 찾기, parent 부모 테이블, x : 노드번호\n",
    "def find(parent, x):\n",
    "    # 루트 노드 찾을때까지 재귀\n",
    "    if parent[x] != x: \n",
    "         # 루트노드 찾을때까지 재귀해서 반환값이 자신의 부모가 되면 parent[x]에 저장 반환\n",
    "        parent[x] = find(parent, parent[x])\n",
    "    return parent[x]\n",
    "\n",
    "# 두 원소가 속한 집합 합치기, \n",
    "def union(parent, a, b): \n",
    "    a = find(parent, a)\n",
    "    b = find(parent, b)\n",
    "    if a< b:\n",
    "        parent[b] = a\n",
    "    else:\n",
    "        parent[a] = b\n",
    "# 노드의 개수와 간선의 개수 입력 받기\n",
    "v, e = map(int, input().split())\n",
    "parent = [0]*(v+1)\n",
    "for i in range(1, v+1):\n",
    "    parent[i] = i\n",
    "    \n",
    "# union 연산\n",
    "for i in range(e):\n",
    "    a, b = map(int, input().split())\n",
    "    union(parent, a, b)\n",
    "# 각 원소가 속한 집합 출력\n",
    "print('각 원소가 속한 집합 출력', end = ' ')\n",
    "for i in range(1, v+1):\n",
    "    print(find(parent, i), end=' ')\n",
    "    \n",
    "print()\n",
    "\n",
    "# 부모 테이블 , 루트가 아닐 수 있다\n",
    "print('부모 테이블', end = ' ')\n",
    "for i in range(1, v+1):\n",
    "    print(parent[i], end=' ')"
   ]
  }
 ],
 "metadata": {
  "kernelspec": {
   "display_name": "Python 3",
   "language": "python",
   "name": "python3"
  },
  "language_info": {
   "codemirror_mode": {
    "name": "ipython",
    "version": 3
   },
   "file_extension": ".py",
   "mimetype": "text/x-python",
   "name": "python",
   "nbconvert_exporter": "python",
   "pygments_lexer": "ipython3",
   "version": "3.7.6"
  }
 },
 "nbformat": 4,
 "nbformat_minor": 4
}
