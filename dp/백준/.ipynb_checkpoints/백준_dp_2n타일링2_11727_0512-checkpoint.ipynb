{
 "cells": [
  {
   "cell_type": "code",
   "execution_count": 11,
   "metadata": {},
   "outputs": [
    {
     "name": "stdout",
     "output_type": "stream",
     "text": [
      "12\n",
      "2731\n"
     ]
    }
   ],
   "source": [
    "# dp[i] = dp[i-1] + dp[i-2]*2\n",
    "# 함정이 있는 문제, n=1일때 예외처리해줘야 함\n",
    "n = int(input())\n",
    "\n",
    "dp = [0]*(n+1)\n",
    "\n",
    "if n < 2:\n",
    "    print(1)\n",
    "    \n",
    "else:\n",
    "    dp[1] = 1\n",
    "    dp[2] = 3\n",
    "    for i in range(3, n+1):\n",
    "        dp[i] = dp[i-1] + 2*dp[i-2]\n",
    "    print(dp[n]%10007)"
   ]
  }
 ],
 "metadata": {
  "kernelspec": {
   "display_name": "Python 3",
   "language": "python",
   "name": "python3"
  },
  "language_info": {
   "codemirror_mode": {
    "name": "ipython",
    "version": 3
   },
   "file_extension": ".py",
   "mimetype": "text/x-python",
   "name": "python",
   "nbconvert_exporter": "python",
   "pygments_lexer": "ipython3",
   "version": "3.7.6"
  }
 },
 "nbformat": 4,
 "nbformat_minor": 4
}
