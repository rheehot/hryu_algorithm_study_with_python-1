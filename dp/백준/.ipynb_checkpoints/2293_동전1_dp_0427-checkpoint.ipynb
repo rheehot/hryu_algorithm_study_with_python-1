{
 "cells": [
  {
   "cell_type": "code",
   "execution_count": 5,
   "metadata": {},
   "outputs": [
    {
     "name": "stdout",
     "output_type": "stream",
     "text": [
      "3 10\n",
      "1 \n",
      "2  \n",
      "5\n",
      "10\n"
     ]
    }
   ],
   "source": [
    "\n",
    "# m원이 되는 경우의 수 구하기\n",
    "# dp[i] = dp[i-k]+1, k원\n",
    "n, m = map(int, input().split())\n",
    "arr = []\n",
    "for _ in range(n):\n",
    "    arr.append(int(input()))\n",
    "dp = [0]*(m+1)\n",
    "dp[0] =1 # dp[0]부터 보텀업으로 경우의 수를 구함 -> 스타트 지점 1로 초기화\n",
    "for i in arr:\n",
    "    for j in range(i, m+1):\n",
    "        dp[j] += dp[j-i] \n",
    "print(dp[m])\n"
   ]
  }
 ],
 "metadata": {
  "kernelspec": {
   "display_name": "Python 3",
   "language": "python",
   "name": "python3"
  },
  "language_info": {
   "codemirror_mode": {
    "name": "ipython",
    "version": 3
   },
   "file_extension": ".py",
   "mimetype": "text/x-python",
   "name": "python",
   "nbconvert_exporter": "python",
   "pygments_lexer": "ipython3",
   "version": "3.7.6"
  }
 },
 "nbformat": 4,
 "nbformat_minor": 4
}
