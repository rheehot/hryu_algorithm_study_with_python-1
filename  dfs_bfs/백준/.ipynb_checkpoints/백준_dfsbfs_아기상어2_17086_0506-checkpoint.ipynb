{
 "cells": [
  {
   "cell_type": "code",
   "execution_count": 8,
   "metadata": {},
   "outputs": [
    {
     "name": "stdout",
     "output_type": "stream",
     "text": [
      "7 4\n",
      "0 0 0 1\n",
      "0 1 0 0\n",
      "0 0 0 0\n",
      "0 0 0 1\n",
      "0 0 0 0\n",
      "0 1 0 0\n",
      "0 0 0 1\n",
      "2\n"
     ]
    }
   ],
   "source": [
    "# bfs로 해결한다\n",
    "# 시작 정점에서 인접 노드 값 +1 , 방문처리\n",
    "# 더이상 수행할 수 없을 떄까지\n",
    "# 시작 정점 동시에\n",
    "from collections import deque\n",
    "dx = [-1, -1, -1, 0, 1, 1, 1, 0]\n",
    "dy = [-1, 0, 1, 1, 1, 0, -1, -1]\n",
    "\n",
    "def bfs():\n",
    "    while queue:\n",
    "        x, y = queue.popleft()\n",
    "        for t in range(8):\n",
    "            nx = x + dx[t]\n",
    "            ny = y + dy[t]\n",
    "            if 0 <= nx < n and 0 <= ny < m:\n",
    "                if graph[nx][ny] == 0:\n",
    "                    graph[nx][ny] = graph[x][y]+1\n",
    "                    queue.append((nx, ny))\n",
    "\n",
    "n, m = map(int, input().split())\n",
    "graph= [list(map(int, input().split())) for _ in range(n) ] \n",
    "queue = deque()\n",
    "for i in range(n):\n",
    "    for j in range(m):\n",
    "        if graph[i][j]==1:\n",
    "            queue.append((i, j))\n",
    "            \n",
    "bfs()\n",
    "max_num = 0\n",
    "for i in range(n):\n",
    "    for j in range(m):\n",
    "        max_num = max(max_num, graph[i][j])\n",
    "print(max_num-1)"
   ]
  },
  {
   "cell_type": "code",
   "execution_count": null,
   "metadata": {},
   "outputs": [],
   "source": []
  }
 ],
 "metadata": {
  "kernelspec": {
   "display_name": "Python 3",
   "language": "python",
   "name": "python3"
  }
 },
 "nbformat": 4,
 "nbformat_minor": 4
}
