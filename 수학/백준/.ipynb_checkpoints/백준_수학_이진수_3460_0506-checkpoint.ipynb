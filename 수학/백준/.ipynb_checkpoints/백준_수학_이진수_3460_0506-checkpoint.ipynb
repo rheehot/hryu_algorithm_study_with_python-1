{
 "cells": [
  {
   "cell_type": "code",
   "execution_count": 7,
   "metadata": {},
   "outputs": [
    {
     "name": "stdout",
     "output_type": "stream",
     "text": [
      "1\n",
      "8\n",
      "[0, 0, 0, 1]\n",
      "3 "
     ]
    }
   ],
   "source": [
    "t = int(input())\n",
    "for _ in range(t):\n",
    "    n = int(input())\n",
    "    m = []\n",
    "    while n != 0:\n",
    "        m.append(n%2)\n",
    "        n = n//2\n",
    "#     print(m)\n",
    "    for i in range(len(m)):\n",
    "        if m[i] == 1:\n",
    "            print(i, end=' ')"
   ]
  }
 ],
 "metadata": {
  "kernelspec": {
   "display_name": "Python 3",
   "language": "python",
   "name": "python3"
  },
  "language_info": {
   "codemirror_mode": {
    "name": "ipython",
    "version": 3
   },
   "file_extension": ".py",
   "mimetype": "text/x-python",
   "name": "python",
   "nbconvert_exporter": "python",
   "pygments_lexer": "ipython3",
   "version": "3.7.6"
  }
 },
 "nbformat": 4,
 "nbformat_minor": 4
}
