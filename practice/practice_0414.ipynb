{
 "cells": [
  {
   "cell_type": "code",
   "execution_count": 4,
   "metadata": {},
   "outputs": [
    {
     "name": "stdout",
     "output_type": "stream",
     "text": [
      "6 6\n",
      "1 5\n",
      "3 4\n",
      "4 2\n",
      "4 6\n",
      "5 2\n",
      "5 4\n",
      "1\n"
     ]
    }
   ],
   "source": [
    "# 정확한순위\n",
    "INF = int(1e9) # 무한을 의미하는 값으로 10억을 설정\n",
    "\n",
    "n, m = map(int, input().split())\n",
    "# 2차원 리스트를 만들고, 모든 값을 무한으로 초기화\n",
    "graph = [[INF]* (n+1) for _ in range(n+1)]\n",
    "# 자기 자신 0\n",
    "for i in range(1, n+1):\n",
    "    for j in range(1, n+1):\n",
    "        if i ==j:\n",
    "            graph[i][j] = 0\n",
    "            \n",
    "for _ in range(m):\n",
    "    a, b = map(int, input().split())\n",
    "    graph[a][b] = 1\n",
    "    \n",
    "for k in range(1, n+1):\n",
    "    for a in range(1, n+1):\n",
    "        for b in range(1, n+1):\n",
    "            graph[a][b] = min(graph[a][b], graph[a][k]+ graph[k][b])\n",
    "result = 0\n",
    "\n",
    "for i in range(1, n+1):\n",
    "    cnt = 0\n",
    "    for j in range(1, n+1):\n",
    "        if graph[i][j] != INF or graph[j][i] != INF:\n",
    "            cnt += 1\n",
    "        if cnt == n:\n",
    "            result+= 1\n",
    "print(result)"
   ]
  },
  {
   "cell_type": "code",
   "execution_count": null,
   "metadata": {},
   "outputs": [],
   "source": [
    "import heapq\n",
    "import sys\n",
    "INF = int(1e9)\n",
    "\n",
    "dx = [-1, 1, 0, 0]\n",
    "dy = [0, 0, -1, 1]\n",
    "\n",
    "t = int(input())\n",
    "for _ in range(t):\n",
    "    n = int(input())\n",
    "\n",
    "    graph = []\n",
    "    for i in range(n):\n",
    "        graph.append(list(map(int, input().split())))\n",
    "    \n",
    "    distance= [[INF]* n for _ in range(n)]\n",
    "    \n",
    "    x, y = 0,0\n",
    "    q = [(graph[x][y], x, y)]\n",
    "    distance[x][y] = graph[x][y]\n",
    "    \n",
    "    while q:\n",
    "        dist, x, y = heapq.heappop(q)\n",
    "        # 현재 노드가 이미 처리된 적이 있다면 무시\n",
    "        if distance[x][y] < dist:\n",
    "            continue\n",
    "        # 현재 노드와 연결돈 다른 인접 노드 확인\n",
    "        for i in range(4):\n",
    "            nx = x + dx[i]\n",
    "            ny = y + dy[i]\n",
    "            \n",
    "            if nx< 0 or nx>= n  or ny < 0 or ny >= n:\n",
    "                continue\n",
    "            cost = dist + graph[nx][ny]\n",
    "            \n",
    "            # 현재 노드 거쳐서 다른 노드로 이동하는 거리가 더 짧은 경우\n",
    "            if cost < distance[nx][ny]:\n",
    "                distance[nx][ny] = cost\n",
    "                heapq.heappush(q, (cost, nx, ny))\n",
    "    print(distance[n-1][n-1])"
   ]
  }
 ],
 "metadata": {
  "kernelspec": {
   "display_name": "Python 3",
   "language": "python",
   "name": "python3"
  },
  "language_info": {
   "codemirror_mode": {
    "name": "ipython",
    "version": 3
   },
   "file_extension": ".py",
   "mimetype": "text/x-python",
   "name": "python",
   "nbconvert_exporter": "python",
   "pygments_lexer": "ipython3",
   "version": "3.7.6"
  }
 },
 "nbformat": 4,
 "nbformat_minor": 4
}
