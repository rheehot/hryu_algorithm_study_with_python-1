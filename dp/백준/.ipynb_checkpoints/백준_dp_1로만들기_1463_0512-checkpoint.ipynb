{
 "cells": [
  {
   "cell_type": "markdown",
   "metadata": {},
   "source": [
    "1. x%3 ==0 이라면 x//3\n",
    "2. x%2 ==0 이라면 x/2\n",
    "3. x-1\n",
    "x가 1이 되는 연산의 최솟값\n",
    "\n",
    "10 -> 9 -> 3 -> 1 3번\n",
    "8 -> 4 -> 2 -> 1\n",
    "8 -> 7 -> 6 -> 3 -> 1"
   ]
  },
  {
   "cell_type": "code",
   "execution_count": 4,
   "metadata": {},
   "outputs": [
    {
     "name": "stdout",
     "output_type": "stream",
     "text": [
      "2\n",
      "[2]\n"
     ]
    }
   ],
   "source": [
    "n = int(input())\n",
    "temp = []\n",
    "cnt = 0\n",
    "    \n",
    "while True:\n",
    "    target = (n//2)*2\n",
    "    cnt += n- target\n",
    "    n = target\n",
    "    if n <2:\n",
    "        temp.append(cnt)\n",
    "        break\n",
    "    n = n//2\n",
    "    cnt += 1\n",
    "# print(temp)\n",
    "print(temp)\n"
   ]
  }
 ],
 "metadata": {
  "kernelspec": {
   "display_name": "Python 3",
   "language": "python",
   "name": "python3"
  },
  "language_info": {
   "codemirror_mode": {
    "name": "ipython",
    "version": 3
   },
   "file_extension": ".py",
   "mimetype": "text/x-python",
   "name": "python",
   "nbconvert_exporter": "python",
   "pygments_lexer": "ipython3",
   "version": "3.7.6"
  }
 },
 "nbformat": 4,
 "nbformat_minor": 4
}
