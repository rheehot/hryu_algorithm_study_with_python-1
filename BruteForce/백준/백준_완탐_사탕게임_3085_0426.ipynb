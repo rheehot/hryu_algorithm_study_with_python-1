{
 "cells": [
  {
   "cell_type": "markdown",
   "metadata": {},
   "source": [
    "- 상근이는 사탕의 색이 다른 인접한 두 칸을 골라 교환할 수 있고, \n",
    "    최대한 연속한 사탕을 먹어야 한다\n",
    "- 연속하다는 것은 행/열 중 골라야 한다\n",
    "\n",
    "### 풀이\n",
    "1. 인접한 두 칸 골라 사탕 교환 \n",
    "2. 행/열 탐색을 통해 긴 연속 부분을 찾아낸다.\n",
    "\n",
    "- 인접한 두 칸은 행/열(세로/가로) 나누어 탐색\n",
    "    - 가로끼리 사탕 교환했다면, 가로에서의 연속된 사탕 최대 개수 구하기\n",
    "    - 세로끼리 사탕 교환했다면, 세로에서의 연속된 사탕 최대 개수 구하기"
   ]
  },
  {
   "cell_type": "code",
   "execution_count": 6,
   "metadata": {},
   "outputs": [
    {
     "name": "stdout",
     "output_type": "stream",
     "text": [
      "5\n",
      "YCPZY\n",
      "CYZZP\n",
      "CCPPP\n",
      "YCYZC\n",
      "CPPZZ\n",
      "4\n"
     ]
    }
   ],
   "source": [
    "n = int(input())\n",
    "arr = [list(map(str, input())) for _ in range(n)]\n",
    "c_arr= arr\n",
    "answer = 0\n",
    "# 가로 최대 개수\n",
    "def max_col(c_arr):\n",
    "    max_n = 1\n",
    "    for i in range(n):\n",
    "        cnt = 1\n",
    "        for j in range(n-1):\n",
    "            if arr[i][j] == arr[i][j+1]:\n",
    "                cnt+=1\n",
    "                max_n = max(max_n, cnt)\n",
    "            else:\n",
    "                cnt =1 # 복구\n",
    "    return max_n\n",
    "# 세로 최대 개수\n",
    "def max_row(c_arr):\n",
    "    max_n =1\n",
    "    for j in range(n):\n",
    "        cnt =1\n",
    "        for i in range(n-1):\n",
    "            if arr[i][j] == arr[i+1][j]:\n",
    "                cnt +=1\n",
    "                max_n = max(max_n, cnt)\n",
    "            else:\n",
    "                cnt = 1\n",
    "    return max_n\n",
    "\n",
    "# 가로 교환 -> 열 바뀜, 행 고정\n",
    "for i in range(n):\n",
    "    for j in range(n-1):\n",
    "        if c_arr[i][j] != c_arr[i][j+1]:\n",
    "            c_arr[i][j], c_arr[i][j+1] = c_arr[i][j+1], c_arr[i][j]\n",
    "            temp = max_col(c_arr) # 가로 최대 개수 구하기\n",
    "            if temp > answer:\n",
    "                answer = temp\n",
    "            temp = max_row(c_arr) # 세로 최대 개수 구하기\n",
    "            if temp > answer:\n",
    "                answer = temp\n",
    "            c_arr[i][j], c_arr[i][j+1] = c_arr[i][j+1], c_arr[i][j] # 복구\n",
    "            \n",
    "# 세로 교환 -> 행 바뀜, 열 고정\n",
    "for i in range(n-1):\n",
    "    for j in range(n):\n",
    "        if c_arr[i][j] != c_arr[i+1][j]:\n",
    "            c_arr[i][j], c_arr[i+1][j] = c_arr[i+1][j], c_arr[i][j]\n",
    "            temp = max_col(c_arr)\n",
    "            if temp > answer:\n",
    "                answer = temp\n",
    "            temp = max_row(c_arr)\n",
    "            if temp > answer :\n",
    "                answer = temp\n",
    "            c_arr[i][j], c_arr[i+1][j] = c_arr[i+1][j], c_arr[i][j] # 복구\n",
    "\n",
    "print(answer)"
   ]
  }
 ],
 "metadata": {
  "kernelspec": {
   "display_name": "Python 3",
   "language": "python",
   "name": "python3"
  }
 },
 "nbformat": 4,
 "nbformat_minor": 4
}
