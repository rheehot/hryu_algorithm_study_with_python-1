{
 "cells": [
  {
   "cell_type": "markdown",
   "metadata": {},
   "source": [
    "1. x%3 ==0 이라면 x//3\n",
    "2. x%2 ==0 이라면 x/2\n",
    "3. x-1\n",
    "x가 1이 되는 연산의 최솟값\n",
    "\n",
    "10 -> 9 -> 3 -> 1 3번  \n",
    "8 -> 4 -> 2 -> 1  \n",
    "8 -> 7 -> 6 -> 3 -> 1  "
   ]
  },
  {
   "cell_type": "code",
   "execution_count": 9,
   "metadata": {},
   "outputs": [
    {
     "name": "stdout",
     "output_type": "stream",
     "text": [
      "26\n",
      "3\n"
     ]
    }
   ],
   "source": [
    "# dp[i] = min(dp[i-1], dp[i//2], dp[i//3],dp[i//5] ) +1\n",
    "n = int(input())\n",
    "\n",
    "dp= [0]*(n+1)\n",
    " \n",
    "# 보텀업으로 해결, 뒤에 더하기 1은 카운트\n",
    "for i in range(2, n+1):\n",
    "    dp[i] = dp[i-1]+1\n",
    "    if i % 2 ==0:\n",
    "        dp[i] = min(dp[i], dp[i//2] +1)\n",
    "    if i % 3 ==0:\n",
    "        dp[i] = min(dp[i], dp[i//3] +1)     \n",
    "    if i % 5 ==0:\n",
    "        dp[i] = min(dp[i], dp[i//5] +1)\n",
    "    \n",
    "print(dp[n])    \n"
   ]
  },
  {
   "cell_type": "code",
   "execution_count": 7,
   "metadata": {},
   "outputs": [
    {
     "name": "stdout",
     "output_type": "stream",
     "text": [
      "12\n",
      "[3, 2]\n",
      "2\n"
     ]
    }
   ],
   "source": [
    "# n = int(input())\n",
    "# m = n\n",
    "# temp = []\n",
    "# if n ==1:\n",
    "#     print(0)\n",
    "   \n",
    "# elif n ==2 or n==3:\n",
    "#     print(1)\n",
    "\n",
    "# else:\n",
    "#     for i in (2, 3):\n",
    "#         cnt = 0\n",
    "#         target = (n//i)*i\n",
    "#         cnt += n- target\n",
    "#         n = target\n",
    "#         while True:\n",
    "#             if n==1:\n",
    "#                 temp.append(cnt)\n",
    "#                 n=m\n",
    "#                 break\n",
    "#             else:\n",
    "#                 n = n//i\n",
    "#                 cnt += 1 \n",
    "# #             print(cnt)\n",
    "#     print(temp)\n",
    "#     print(min(temp))\n"
   ]
  }
 ],
 "metadata": {
  "kernelspec": {
   "display_name": "Python 3",
   "language": "python",
   "name": "python3"
  },
  "language_info": {
   "codemirror_mode": {
    "name": "ipython",
    "version": 3
   },
   "file_extension": ".py",
   "mimetype": "text/x-python",
   "name": "python",
   "nbconvert_exporter": "python",
   "pygments_lexer": "ipython3",
   "version": "3.7.6"
  }
 },
 "nbformat": 4,
 "nbformat_minor": 4
}
