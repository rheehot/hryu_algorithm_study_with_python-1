{
 "cells": [
  {
   "cell_type": "markdown",
   "metadata": {},
   "source": [
    "### 연산자 끼워넣기\n",
    "- 연산자는 operators라는 4짜리 배열 선언\n",
    "- 그 후, 백트래킹 사용하여 재귀로 해결\n",
    "- 매개변수는 여태까지 연산의 result,연산을 진행할 수의 인덱스 입력받도록\n",
    "하는 백트래킹 재귀 함수 정의하여 풀이\n",
    "- 이 문제는 재귀의 흐름과 매개변수 어떤 값을 사용해야 할지 설계가 중요\n",
    "\n",
    "### 백트래킹 \n",
    "- 답이 아닐 것 같으면 되돌아가는 방법\n",
    "- 모든 경우의 수 중 특정한 조건 만족하는 경우만 살피기\n",
    "- dfs(가능한 모든 경로 탐색)에서 가지치기한 것을 백트래킹"
   ]
  },
  {
   "cell_type": "code",
   "execution_count": 5,
   "metadata": {},
   "outputs": [
    {
     "name": "stdout",
     "output_type": "stream",
     "text": [
      "2\n",
      "5 6\n",
      "0 0 1 0\n",
      "30\n",
      "30\n"
     ]
    }
   ],
   "source": [
    "n = int(input())\n",
    "\n",
    "data = list(map(int, input().split()))\n",
    "\n",
    "add, sub, mul, div = map(int, input().split())\n",
    "\n",
    "min_value = 1e9\n",
    "max_value = -1e9\n",
    "\n",
    "def dfs(i, now):\n",
    "    global min_value, max_value, add, sub, mul, div\n",
    "    \n",
    "    if i == n:\n",
    "        min_value = min(min_value, now)\n",
    "        max_value = max(max_value, now)\n",
    "    else:\n",
    "        if add > 0:\n",
    "            add -= 1\n",
    "            dfs(i+1, now+data[i])\n",
    "            add += 1\n",
    "        if sub > 0:\n",
    "            sub -= 1\n",
    "            dfs(i+1, now-data[i])\n",
    "            sub += 1\n",
    "        if mul > 0:\n",
    "            mul-= 1\n",
    "            dfs(i+1, now*data[i])\n",
    "            mul+= 1\n",
    "        if div > 0:\n",
    "            div -=1\n",
    "            dfs(i+1, int(now/data[i])) # 나눌때는 나머지를 제거\n",
    "            div += 1\n",
    "dfs(1, data[0])\n",
    "\n",
    "print(max_value)\n",
    "print(min_value)"
   ]
  }
 ],
 "metadata": {
  "kernelspec": {
   "display_name": "Python 3",
   "language": "python",
   "name": "python3"
  },
  "language_info": {
   "codemirror_mode": {
    "name": "ipython",
    "version": 3
   },
   "file_extension": ".py",
   "mimetype": "text/x-python",
   "name": "python",
   "nbconvert_exporter": "python",
   "pygments_lexer": "ipython3",
   "version": "3.7.6"
  }
 },
 "nbformat": 4,
 "nbformat_minor": 4
}
