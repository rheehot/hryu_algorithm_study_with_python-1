{
 "cells": [
  {
   "cell_type": "code",
   "execution_count": null,
   "metadata": {},
   "outputs": [],
   "source": [
    "# 세로 길이 h 가로 길이 w\n",
    "# 블록 높이 : 0 ~ h\n",
    "# 고이는 빗물의 총량\n",
    "# 리스트에서 최대값 찾는 방법 -> max(list)\n",
    "# 리스트에서 최대값의 인덱스 찾는 방법 -> list.index(max(index))\n",
    "# 백준 창고다각형과 비슷한 문제\n",
    "h, w = map(int, input().split())\n",
    "\n",
    "graph = list(map(int, input().split()))\n",
    "\n",
    "max_h = max(graph)\n",
    "max_idx = graph.index(max(graph))\n",
    "temp1, temp2, result = 0, 0, 0\n",
    "for i in range(max_idx+1): # max_index까지 더해줄 수를 찾아 누적\n",
    "    if graph[i] > temp1: \n",
    "        temp1 = graph[i]\n",
    "    result += temp1\n",
    "for i in range(w-1, max_idx, -1):\n",
    "    if graph[i] > temp2:\n",
    "        temp2 = graph[i]\n",
    "    result += temp2\n",
    "print(result- sum(graph))"
   ]
  }
 ],
 "metadata": {
  "kernelspec": {
   "display_name": "Python 3",
   "language": "python",
   "name": "python3"
  },
  "language_info": {
   "codemirror_mode": {
    "name": "ipython",
    "version": 3
   },
   "file_extension": ".py",
   "mimetype": "text/x-python",
   "name": "python",
   "nbconvert_exporter": "python",
   "pygments_lexer": "ipython3",
   "version": "3.7.6"
  }
 },
 "nbformat": 4,
 "nbformat_minor": 4
}
