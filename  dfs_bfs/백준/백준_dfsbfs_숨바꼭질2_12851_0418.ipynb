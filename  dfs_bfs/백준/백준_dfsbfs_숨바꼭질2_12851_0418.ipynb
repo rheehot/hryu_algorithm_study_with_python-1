{
 "cells": [
  {
   "cell_type": "code",
   "execution_count": 5,
   "metadata": {},
   "outputs": [
    {
     "name": "stdout",
     "output_type": "stream",
     "text": [
      "5 17\n",
      "4\n",
      "2\n"
     ]
    }
   ],
   "source": [
    "from collections import deque\n",
    "max_size = 1000001\n",
    "n, k = map(int, input().split())\n",
    "check=[[-1,0] for _ in range(max_size)] # check[][0] : 최소시간, check[][1] : 방법의수\n",
    "def bfs(n):\n",
    "    queue = deque()\n",
    "    queue.append(n)\n",
    "    check[n][0] = 0\n",
    "    check[n][1] = 1\n",
    "    \n",
    "    while queue:\n",
    "        v = queue.popleft()\n",
    "        \n",
    "        for i in (v-1, v+1, v*2):\n",
    "            if 0 <= i < max_size:\n",
    "                if check[i][0] == -1: # 처음 들르는 경우\n",
    "                    queue.append(i)\n",
    "                    check[i][0] = check[v][0] + 1\n",
    "                    check[i][1] = check[v][1]\n",
    "                    \n",
    "                elif check[i][0] == check[v][0] + 1: # 한번 이상 들르는 경우\n",
    "                    check[i][1] += check[v][1] # 방법 더하기\n",
    "                    \n",
    "bfs(n)\n",
    "print(check[k][0])\n",
    "print(check[k][1])\n",
    "                    \n",
    "    "
   ]
  }
 ],
 "metadata": {
  "kernelspec": {
   "display_name": "Python 3",
   "language": "python",
   "name": "python3"
  },
  "language_info": {
   "codemirror_mode": {
    "name": "ipython",
    "version": 3
   },
   "file_extension": ".py",
   "mimetype": "text/x-python",
   "name": "python",
   "nbconvert_exporter": "python",
   "pygments_lexer": "ipython3",
   "version": "3.7.6"
  }
 },
 "nbformat": 4,
 "nbformat_minor": 4
}
