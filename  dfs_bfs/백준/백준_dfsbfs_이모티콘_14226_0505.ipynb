{
 "cells": [
  {
   "cell_type": "code",
   "execution_count": null,
   "metadata": {},
   "outputs": [],
   "source": [
    "# 이모티콘\n",
    "# bfs + dp\n",
    "# 초기 display = 1 board = 0 count = 0\n",
    "# 1. board = display , count+= 1 -> 보드는 덮어쓰기때문에 화면 임콘 개수\n",
    "# 2. display += board count +=1 -> 화면은 보드+화면 개수만큼 붙여넣기\n",
    "# 3. display -= 1 count += 1 -> 화면 임콘 개수 -1\n",
    "# check[display][board] \n",
    "from collections import deque\n",
    "\n",
    "n = int(input())\n",
    "max_size = 1001\n",
    "check = [[-1]*max_size for _ in range(max_size)]\n",
    "def bfs():\n",
    "    queue = deque()\n",
    "    queue.append((1, 0, 0))\n",
    "    \n",
    "    while queue:\n",
    "        display, board, count = queue.popleft()\n",
    "        \n",
    "        if display == n:\n",
    "            return count\n",
    "        \n",
    "         # 1.화면에서 보드로 저장\n",
    "        if 0 < display < max_size: \n",
    "            if check[display][display] == -1:\n",
    "                check[display][display] = 1\n",
    "#                 count += 1\n",
    "                queue.append((display, display, count+1))\n",
    "                \n",
    "        # 2. 보드에서 화면으로 저장, display + board 몽땅 화면에 저장되기 때문에 비교 필요    \n",
    "        if 0 < board and display + board < max_size : \n",
    "            if check[display+board][board] == -1:\n",
    "                check[display+board][board] = 1\n",
    "                queue.append((display+board, board, count+1))\n",
    "        # 3. display에서 하나 삭제\n",
    "        if check[display-1][board] == -1:\n",
    "            check[display-1][board] =1\n",
    "            queue.append((display-1, board, count+1))\n",
    "\n",
    "print(bfs())"
   ]
  }
 ],
 "metadata": {
  "kernelspec": {
   "display_name": "Python 3",
   "language": "python",
   "name": "python3"
  },
  "language_info": {
   "codemirror_mode": {
    "name": "ipython",
    "version": 3
   },
   "file_extension": ".py",
   "mimetype": "text/x-python",
   "name": "python",
   "nbconvert_exporter": "python",
   "pygments_lexer": "ipython3",
   "version": "3.7.6"
  }
 },
 "nbformat": 4,
 "nbformat_minor": 4
}
