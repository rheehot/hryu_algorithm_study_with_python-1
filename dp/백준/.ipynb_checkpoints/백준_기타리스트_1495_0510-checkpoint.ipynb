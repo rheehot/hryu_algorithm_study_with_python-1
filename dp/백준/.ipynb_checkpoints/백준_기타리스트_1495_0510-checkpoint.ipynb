{
 "cells": [
  {
   "cell_type": "code",
   "execution_count": 13,
   "metadata": {},
   "outputs": [
    {
     "name": "stdout",
     "output_type": "stream",
     "text": [
      "4 10 25\n",
      "10 10 10 10\n",
      "10\n"
     ]
    }
   ],
   "source": [
    "# 얼추 보면 bfs로 풀수 있을 것 같지만 시간초과 발생\n",
    "# 메모리 제한 때문일 것으로 판단 , 문제에서 128mb임\n",
    "# dfs보다 bfs가 공간복잡도가 넓어서, 이런 부분을 신경써야함 ..\n",
    "# bfs는 큐를 사용하는데, 노드가 너무 많으면 큐의 사이즈가 너무 커짐 - 스택오버플로우 발생\n",
    "# 근데 이문제는 dfs가 아님 dp임 \n",
    "# dp? 젠장 모르겠음\n",
    "\n",
    "# n 개수 s 시작 볼륨 m 최댓값\n",
    "n, s, m = map(int, input().split())\n",
    "volume = list(map(int, input().split()))\n",
    "dp = [[False]*1001 for _ in range(n)]\n",
    "flag = True\n",
    "\n",
    "if s+ volume[0] <= m:\n",
    "    dp[0][s+volume[0]] = flag\n",
    "if s - volume[0]>= 0:\n",
    "    dp[0][s-volume[0]] = flag\n",
    "\n",
    "for i in range(0, n): # 곡 개수\n",
    "    for j in range(m+1): # 볼륨 크기 \n",
    "        if dp[i-1][j] ==flag:\n",
    "            if j+volume[i] <= m:\n",
    "                dp[i][j+volume[i]] = flag\n",
    "            if j-volume[i] >= 0:\n",
    "                dp[i][j-volume[i]] = flag\n",
    "\n",
    "for i in range(m, -1, -1):\n",
    "    if dp[n-1][i] == flag:\n",
    "        print(i)\n",
    "        break\n",
    "else:\n",
    "    print(-1)\n",
    "\n",
    "        # 91% 반례"
   ]
  },
  {
   "cell_type": "code",
   "execution_count": null,
   "metadata": {},
   "outputs": [],
   "source": [
    "g = [[100] for _ in range(10)]\n",
    "print(g)\n",
    "g[2][0] \n"
   ]
  }
 ],
 "metadata": {
  "kernelspec": {
   "display_name": "Python 3",
   "language": "python",
   "name": "python3"
  },
  "language_info": {
   "codemirror_mode": {
    "name": "ipython",
    "version": 3
   },
   "file_extension": ".py",
   "mimetype": "text/x-python",
   "name": "python",
   "nbconvert_exporter": "python",
   "pygments_lexer": "ipython3",
   "version": "3.7.6"
  }
 },
 "nbformat": 4,
 "nbformat_minor": 4
}
