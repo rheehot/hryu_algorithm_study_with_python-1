{
 "cells": [
  {
   "cell_type": "code",
   "execution_count": null,
   "metadata": {},
   "outputs": [],
   "source": [
    "n, k = map(int, input().split())\n",
    "arr = []\n",
    "for i in range(n):\n",
    "    arr.append(int(input()))\n",
    "# dp: 맞추려는 금액보다 큰 금액 배열 설정\n",
    "dp = [10001 for i in range(k+1)]\n",
    "\n",
    "# 0원 만드는 방법 0으로 초기화\n",
    "dp[0] = 0\n",
    "arr.sort()\n",
    "# 각 arr마다 금액을 만드는데 어느것이 최솟값인지 dp에 저장한다\n",
    "for i in arr:\n",
    "    for j in range(i, k+1):\n",
    "        dp[j] = min(dp[j], dp[j-i] + 1) \n",
    "if dp[-1] != 10001:\n",
    "    print(dp[-1])\n",
    "else:\n",
    "    print(-1)"
   ]
  }
 ],
 "metadata": {
  "kernelspec": {
   "display_name": "Python 3",
   "language": "python",
   "name": "python3"
  },
  "language_info": {
   "codemirror_mode": {
    "name": "ipython",
    "version": 3
   },
   "file_extension": ".py",
   "mimetype": "text/x-python",
   "name": "python",
   "nbconvert_exporter": "python",
   "pygments_lexer": "ipython3",
   "version": "3.7.6"
  }
 },
 "nbformat": 4,
 "nbformat_minor": 4
}
