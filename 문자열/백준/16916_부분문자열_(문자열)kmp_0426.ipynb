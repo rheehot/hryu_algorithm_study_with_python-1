{
 "cells": [
  {
   "cell_type": "code",
   "execution_count": 9,
   "metadata": {},
   "outputs": [
    {
     "name": "stdout",
     "output_type": "stream",
     "text": [
      "baekjoon\n",
      "baekjoon\n",
      "1\n"
     ]
    }
   ],
   "source": [
    "s = input()\n",
    "m = input()\n",
    "\n",
    "arr = []\n",
    "for i in range(len(s)- len(m)+1):\n",
    "    check = True\n",
    "    for j in range(len(m)):\n",
    "        if s[i+j] != m[j]:\n",
    "            check = False\n",
    "            break\n",
    "    if check:\n",
    "        break\n",
    "            \n",
    "if check:\n",
    "    print(1)\n",
    "else:\n",
    "    print(0)\n",
    "## 시간초과 코드\n",
    "#o(n*s)  \n",
    "\n",
    "# s = input()\n",
    "# m = input()\n",
    "# print(int(m in s))"
   ]
  },
  {
   "cell_type": "markdown",
   "metadata": {},
   "source": [
    "## kmp\n",
    "- 일치했던 부분문자열의 정보 이용하여, 불필요한 비교는 건너뛰어버리는 원리\n",
    "- 아씨너무어렵다\n",
    "- 탐색 문자열의 앞부분과 원본 문자열의 뒷부분이 동일한 부분 까지는 문자열 탐색을   \n",
    "건너뛸 수 있다  \n",
    "- 동일한 부분 -> 원본 문자열의 접미사 = 탐색하는 문자열의 접두사  \n",
    "- 불일치 발생하면 접두사, 접미사를 통해 얼만큼 건너뛸 수 있는지 계산 가능 \n",
    "- 결론 : 탐색문자열의 접두사와 원본문자열의 접미사가 동일한 부분 까지는  \n",
    "탐색을 건너 뛸 수 있다.\n",
    "\n",
    "### Pi array, LPS(Longest proper prefix which is suffix)\n",
    "- Prefix(접두어)와 Suffix(접미어)가 동일한 가장 긴 경우  "
   ]
  },
  {
   "cell_type": "code",
   "execution_count": 10,
   "metadata": {},
   "outputs": [
    {
     "name": "stdout",
     "output_type": "stream",
     "text": [
      "baekjoon\n",
      "online\n"
     ]
    },
    {
     "data": {
      "text/plain": [
       "0"
      ]
     },
     "execution_count": 10,
     "metadata": {},
     "output_type": "execute_result"
    }
   ],
   "source": [
    "# https://devbull.xyz/python-kmp-algorijeumeuro-munjayeol-cajgi/\n",
    "\n",
    "def kmp(pat, txt):\n",
    "    m = len(pat) #pat 패턴 , txt 원본\n",
    "    n = len(txt)\n",
    "    \n",
    "    lps = [0]*m\n",
    "    # lps 테이블 계산하는 함수\n",
    "    computeLPS(pat, lps) # 테이블을 얻을 것\n",
    "    i = 0 # idx for txt[]\n",
    "    j = 0 # idx for pat[]\n",
    "    while i < n:\n",
    "        # 문자열 같은 경우 양쪽 인덱스 모두 증가\n",
    "        if pat[j] == txt[i]:\n",
    "            i += 1\n",
    "            j += 1\n",
    "        # pattern을 찾지 못한 경우\n",
    "        elif pat[j] != txt[i]:\n",
    "            # j!=0 인 경우는 짧은 lps에 대해 재검사\n",
    "            if j != 0:\n",
    "                j = lps[j-1]\n",
    "            # j==0이라면 일치하는 부분 없으므로 인덱스 증가\n",
    "            else:\n",
    "                i+= 1\n",
    "            \n",
    "        if j ==m:\n",
    "            \n",
    "            return 1\n",
    "    else:\n",
    "        return 0\n",
    "    \n",
    "def computeLPS(pat, lps):\n",
    "    leng = 0 # 이전 가장 긴 lps\n",
    "    \n",
    "    # 항상 lps[0] = 0이므로 while문은 i==1부터 시작한다\n",
    "    i=1\n",
    "    while i < len(pat):\n",
    "        # 이전 인덱스에서 같았다면 다음 인덱스만 비교\n",
    "        if pat[i] == pat[leng]:\n",
    "            leng += 1\n",
    "            lps[i] = leng\n",
    "            i += 1\n",
    "        else:\n",
    "            # 그 전에 일치한 인덱스가 있었다면\n",
    "            if leng != 0:\n",
    "                # 이전 인덱스에서는 값이 같았으므로 leng줄여서 다시 검사\n",
    "                leng = lps[leng-1]\n",
    "            # 이전 인덱스에서도 같지 않았다면 lps[i]는 0 이고 i는 1 증가\n",
    "            else:\n",
    "                lps[i] = 0\n",
    "                i += 1\n",
    "                \n",
    "txt = input()\n",
    "pat = input()\n",
    "print(kmp(pat, txt))"
   ]
  }
 ],
 "metadata": {
  "kernelspec": {
   "display_name": "Python 3",
   "language": "python",
   "name": "python3"
  },
  "language_info": {
   "codemirror_mode": {
    "name": "ipython",
    "version": 3
   },
   "file_extension": ".py",
   "mimetype": "text/x-python",
   "name": "python",
   "nbconvert_exporter": "python",
   "pygments_lexer": "ipython3",
   "version": "3.7.6"
  }
 },
 "nbformat": 4,
 "nbformat_minor": 4
}
