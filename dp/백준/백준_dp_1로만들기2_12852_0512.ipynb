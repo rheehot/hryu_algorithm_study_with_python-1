{
 "cells": [
  {
   "cell_type": "code",
   "execution_count": 49,
   "metadata": {},
   "outputs": [
    {
     "name": "stdout",
     "output_type": "stream",
     "text": [
      "10\n",
      "3\n",
      "10 9 3 1\n"
     ]
    }
   ],
   "source": [
    "n = int(input())\n",
    "dp = list([0,0] for _ in range(n+1)) \n",
    "\n",
    "for i in range(2, n+1):\n",
    "    dp[i][0] = dp[i-1][0]+1\n",
    "    dp[i][1] = i-1\n",
    "\n",
    "    if i % 2 ==0:\n",
    "        if dp[i][0] > dp[i//2][0]+1: # 갱신조건을 준다.\n",
    "            dp[i][0] = dp[i//2][0]+1\n",
    "            dp[i][1] = i//2\n",
    "        \n",
    "    if i % 3 ==0:\n",
    "        if dp[i][0] > dp[i//3][0]+1:\n",
    "            dp[i][0] = dp[i//3][0]+1\n",
    "            dp[i][1] = i//3\n",
    "    \n",
    "print(dp[n][0])\n",
    "\n",
    "temp = []\n",
    "temp.append(n)\n",
    "for _ in range(dp[n][0], 0, -1):\n",
    "    temp.append(dp[n][1])\n",
    "    n = dp[n][1]\n",
    "    \n",
    "print(' '.join(map(str, temp)))"
   ]
  },
  {
   "cell_type": "code",
   "execution_count": null,
   "metadata": {},
   "outputs": [],
   "source": []
  }
 ],
 "metadata": {
  "kernelspec": {
   "display_name": "Python 3",
   "language": "python",
   "name": "python3"
  },
  "language_info": {
   "codemirror_mode": {
    "name": "ipython",
    "version": 3
   },
   "file_extension": ".py",
   "mimetype": "text/x-python",
   "name": "python",
   "nbconvert_exporter": "python",
   "pygments_lexer": "ipython3",
   "version": "3.7.6"
  }
 },
 "nbformat": 4,
 "nbformat_minor": 4
}
