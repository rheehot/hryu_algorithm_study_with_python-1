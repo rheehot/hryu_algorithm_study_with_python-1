{
 "cells": [
  {
   "cell_type": "code",
   "execution_count": null,
   "metadata": {},
   "outputs": [],
   "source": [
    " n = int(input())\n",
    "\n",
    "dp= [0]*1001\n",
    "dp[1] = 1\n",
    "cnt = 1\n",
    "\n",
    "if n ==1:\n",
    "    print(1)\n",
    "else: \n",
    "    for i in range(2, n+1):\n",
    "        if i % 2 == 0 and  dp[i//2] ==1:\n",
    "            cnt+= 1\n",
    "            dp[i] += cnt\n",
    "           \n",
    "        elif i % 3 == 0 and dp[i//3] ==1:\n",
    "            cnt += 1\n",
    "            dp[i] += cnt\n",
    "           \n",
    "        elif i % 5 == 0 and dp[i//5] ==1:\n",
    "            cnt += 1\n",
    "            dp[i] +=cnt\n",
    "           \n",
    "    print(dp[n])"
   ]
  }
 ],
 "metadata": {
  "kernelspec": {
   "display_name": "Python 3",
   "language": "python",
   "name": "python3"
  },
  "language_info": {
   "codemirror_mode": {
    "name": "ipython",
    "version": 3
   },
   "file_extension": ".py",
   "mimetype": "text/x-python",
   "name": "python",
   "nbconvert_exporter": "python",
   "pygments_lexer": "ipython3",
   "version": "3.7.6"
  }
 },
 "nbformat": 4,
 "nbformat_minor": 4
}
