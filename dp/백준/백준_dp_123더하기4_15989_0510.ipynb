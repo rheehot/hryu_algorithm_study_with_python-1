{
 "cells": [
  {
   "cell_type": "markdown",
   "metadata": {},
   "source": [
    "중복없이 경우의수를 구하기 위해 모든 경우의 수는 오름차순 정렬\n",
    "dp[i][j] = i를 만들 때 마지막으로 더한 수가 j인 경우의 수\n",
    "j =1 -> 바로 앞에 더한 수 1\n",
    "j =2 -> 바로 앞에 더한 수 1, 2\n",
    "j =3 -> 바로 앞에 더한 수 1, 2, 3"
   ]
  },
  {
   "cell_type": "code",
   "execution_count": 2,
   "metadata": {},
   "outputs": [
    {
     "name": "stdout",
     "output_type": "stream",
     "text": [
      "3\n",
      "4\n",
      "4\n",
      "7\n",
      "8\n",
      "10\n",
      "14\n"
     ]
    }
   ],
   "source": [
    "t = int(input())\n",
    "for i in range(t):\n",
    "    n = int(input())\n",
    "    \n",
    "    dp = [[0,0,0,0] for _ in range(10001)]\n",
    "    dp[1][1] = dp[2][1] = dp[2][2] = dp[3][1] = dp[3][2] = dp[3][3] = 1\n",
    "    \n",
    "    for i in range(4, n+1):\n",
    "        dp[i][1] = dp[i-1][1]\n",
    "        dp[i][2] = dp[i-2][1]+ dp[i-2][2]\n",
    "        dp[i][3] = dp[i-3][1] + dp[i-3][2] + dp[i-3][3]\n",
    "        \n",
    "    print(sum(dp[n]))"
   ]
  }
 ],
 "metadata": {
  "kernelspec": {
   "display_name": "Python 3",
   "language": "python",
   "name": "python3"
  },
  "language_info": {
   "codemirror_mode": {
    "name": "ipython",
    "version": 3
   },
   "file_extension": ".py",
   "mimetype": "text/x-python",
   "name": "python",
   "nbconvert_exporter": "python",
   "pygments_lexer": "ipython3",
   "version": "3.7.6"
  }
 },
 "nbformat": 4,
 "nbformat_minor": 4
}
