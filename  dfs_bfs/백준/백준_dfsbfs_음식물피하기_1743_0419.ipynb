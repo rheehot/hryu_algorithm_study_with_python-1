{
 "cells": [
  {
   "cell_type": "code",
   "execution_count": null,
   "metadata": {},
   "outputs": [],
   "source": [
    "## bfs 아니고 dfs : 다음 분기 넘어가기전에 해당 분기 완탐"
   ]
  },
  {
   "cell_type": "code",
   "execution_count": null,
   "metadata": {},
   "outputs": [],
   "source": [
    "import sys\n",
    "sys.setrecursionlimit(10000)\n",
    "\n",
    "n,m,k = map(int, input().split())\n",
    "graph = [[0]*m for _ in range(n)]\n",
    "visited = [[0]*m for _ in range(n)]\n",
    "\n",
    "for _ in range(k):\n",
    "    a, b = map(int, input().split())\n",
    "    graph[a-1][b-1] = 1\n",
    "\n",
    "dx = [-1, 1, 0, 0]\n",
    "dy = [0, 0, -1, 1]\n",
    "\n",
    "def dfs(x,y):\n",
    "    visited[x][y] = 1\n",
    "    global cnt\n",
    "    cnt += 1\n",
    "    for i in range(4):\n",
    "        nx = x + dx[i]\n",
    "        ny = y + dy[i]\n",
    "        if (0<= nx < n) and (0<= ny < m) and visited[nx][ny] ==0 and graph[nx][ny]== 1:\n",
    "            dfs(nx, ny)\n",
    "                \n",
    "max_cnt =0\n",
    "for i in range(n):\n",
    "    for j in range(m):\n",
    "        if graph[i][j] == 1 and visited[i][j]==0:\n",
    "            cnt = 0\n",
    "            dfs(i, j)\n",
    "            max_cnt = max(cnt, max_cnt)\n",
    "            \n",
    "print(max_cnt)"
   ]
  }
 ],
 "metadata": {
  "kernelspec": {
   "display_name": "Python 3",
   "language": "python",
   "name": "python3"
  },
  "language_info": {
   "codemirror_mode": {
    "name": "ipython",
    "version": 3
   },
   "file_extension": ".py",
   "mimetype": "text/x-python",
   "name": "python",
   "nbconvert_exporter": "python",
   "pygments_lexer": "ipython3",
   "version": "3.7.6"
  }
 },
 "nbformat": 4,
 "nbformat_minor": 4
}
