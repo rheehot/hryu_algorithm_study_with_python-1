{
 "cells": [
  {
   "cell_type": "code",
   "execution_count": null,
   "metadata": {},
   "outputs": [],
   "source": [
    "# 바이러스 \n",
    "# dfs 로 풀자 -> 한 분기에 대해 끝까지 탐색\n",
    "# 인접리스트(무방향) 활용 -> 자꾸까먹어ㅠㅠ 꼭 기억하기 \n",
    "# bfs 로도 풀어보기\n",
    "\n",
    "# 처음에 한 큰 실수\n",
    "# https://gurumee92.tistory.com/143\n",
    "# [[], [2, 5], [3], [], [7], [2, 6], [], []] -> 무방향 체크 안해서\n",
    "# 재귀 돌리면 돌아올 곳이 없어지는 경우가 있다.. 답이 안나오겠지"
   ]
  },
  {
   "cell_type": "code",
   "execution_count": 7,
   "metadata": {},
   "outputs": [
    {
     "name": "stdout",
     "output_type": "stream",
     "text": [
      "7 \n",
      "6 \n",
      "1 2\n",
      "1 5\n",
      "2 3\n",
      "4 7\n",
      "5 2\n",
      "5 6\n",
      "[[], [2, 5], [3], [], [7], [2, 6], [], []]\n",
      "4\n"
     ]
    }
   ],
   "source": [
    "\n",
    "def dfs(graph, v, visited):\n",
    "    visited[v] = 1\n",
    "    \n",
    "    for i in graph[v]:\n",
    "        if visited[i]==0:\n",
    "            dfs(graph,i, visited)\n",
    "   \n",
    "n = int(input())\n",
    "m = int(input())\n",
    "graph = [[] for _ in range(n+1) ]\n",
    "for _ in range(m):\n",
    "    a, b = map(int, input().split()) # 방향 없음\n",
    "    graph[a].append(b)\n",
    "    graph[b].append(a)\n",
    "# print(graph)\n",
    "visited= [0]*(n+1)\n",
    "dfs(graph, 1, visited)\n",
    "\n",
    "cnt = 0\n",
    "for i in visited:\n",
    "    if i==1:\n",
    "        cnt+=1\n",
    "        \n",
    "print(cnt-1)\n",
    "#print(graph) # [[], [2, 5], [1, 3, 5], [2], [7], [1, 2, 6], [5], [4]]"
   ]
  }
 ],
 "metadata": {
  "kernelspec": {
   "display_name": "Python 3",
   "language": "python",
   "name": "python3"
  },
  "language_info": {
   "codemirror_mode": {
    "name": "ipython",
    "version": 3
   },
   "file_extension": ".py",
   "mimetype": "text/x-python",
   "name": "python",
   "nbconvert_exporter": "python",
   "pygments_lexer": "ipython3",
   "version": "3.7.6"
  }
 },
 "nbformat": 4,
 "nbformat_minor": 4
}
