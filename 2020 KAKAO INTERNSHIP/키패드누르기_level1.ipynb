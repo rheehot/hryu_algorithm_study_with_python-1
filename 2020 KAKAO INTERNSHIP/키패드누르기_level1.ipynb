{
 "cells": [
  {
   "cell_type": "code",
   "execution_count": 35,
   "metadata": {},
   "outputs": [
    {
     "name": "stdout",
     "output_type": "stream",
     "text": [
      "[10, 7]\n",
      "[12]\n",
      "[10, 7]\n",
      "[12, 0]\n",
      "[10, 7, 8]\n",
      "[12, 0]\n",
      "[10, 7, 8, 2]\n",
      "[12, 0]\n",
      "[10, 7, 8, 2]\n",
      "[12, 0, 8]\n",
      "[10, 7, 8, 2]\n",
      "[12, 0, 8, 3]\n",
      "[10, 7, 8, 2, 1]\n",
      "[12, 0, 8, 3]\n",
      "[10, 7, 8, 2, 1, 5]\n",
      "[12, 0, 8, 3]\n",
      "[10, 7, 8, 2, 1, 5, 7]\n",
      "[12, 0, 8, 3]\n",
      "[10, 7, 8, 2, 1, 5, 7]\n",
      "[12, 0, 8, 3, 6]\n",
      "[10, 7, 8, 2, 1, 5, 7]\n",
      "[12, 0, 8, 3, 6, 2]\n"
     ]
    },
    {
     "data": {
      "text/plain": [
       "'LRLLRRLLLRR'"
      ]
     },
     "execution_count": 35,
     "metadata": {},
     "output_type": "execute_result"
    }
   ],
   "source": [
    "import math\n",
    "def solution(numbers, hand):\n",
    "    answer = ''\n",
    "    left_location = [10]\n",
    "    right_location = [12]\n",
    "    result = []\n",
    "    \n",
    "    while numbers :\n",
    "        num = numbers.pop(0)\n",
    "            \n",
    "        if num in (1, 4, 7):\n",
    "            result.append(\"L\")\n",
    "            left_location.append(num)\n",
    "            \n",
    "        elif num in (3, 6, 9):\n",
    "            result.append(\"R\")\n",
    "            right_location.append(num)\n",
    "            \n",
    "        else:\n",
    "            left = left_location[-1]\n",
    "            right = right_location[-1]\n",
    "            leftDistance = getDistance(left, num)\n",
    "            rightDistance = getDistance(right, num)\n",
    "            \n",
    "            if leftDistance < rightDistance :\n",
    "                result.append('L')\n",
    "                left_location.append(num)\n",
    "            elif leftDistance > rightDistance :\n",
    "                result.append(\"R\")\n",
    "                right_location.append(num)\n",
    "            else:\n",
    "                if hand == \"left\":\n",
    "                    result.append('L')\n",
    "                    left_location.append(num)\n",
    "                else:\n",
    "                    result.append(\"R\")\n",
    "                    right_location.append(num)\n",
    "        \n",
    "    return ''.join(result)\n",
    "\n",
    "def getDistance(value, num):\n",
    "    if value == 0:  \n",
    "        value = 11\n",
    "    if num == 0:\n",
    "        num = 11\n",
    "\n",
    "    x = (value-1)//3\n",
    "    y= (value-1)%3 \n",
    "    numx = (num)//3\n",
    "    numy = 1\n",
    "    return abs(numx - x) + abs(numy -y)"
   ]
  }
 ],
 "metadata": {
  "kernelspec": {
   "display_name": "Python 3",
   "language": "python",
   "name": "python3"
  },
  "language_info": {
   "codemirror_mode": {
    "name": "ipython",
    "version": 3
   },
   "file_extension": ".py",
   "mimetype": "text/x-python",
   "name": "python",
   "nbconvert_exporter": "python",
   "pygments_lexer": "ipython3",
   "version": "3.7.6"
  }
 },
 "nbformat": 4,
 "nbformat_minor": 4
}
