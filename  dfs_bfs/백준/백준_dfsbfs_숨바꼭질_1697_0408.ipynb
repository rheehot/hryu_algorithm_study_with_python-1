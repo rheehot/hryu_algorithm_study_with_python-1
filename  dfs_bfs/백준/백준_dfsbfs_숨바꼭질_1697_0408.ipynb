{
 "cells": [
  {
   "cell_type": "markdown",
   "metadata": {},
   "source": [
    "- 그냥 구현 때리면 , 시간복잡도 오질듯\n",
    "- bfs 로 구현하는데 분기가 너무 커져"
   ]
  },
  {
   "cell_type": "code",
   "execution_count": 9,
   "metadata": {},
   "outputs": [
    {
     "name": "stdout",
     "output_type": "stream",
     "text": [
      "5 17\n",
      "4\n"
     ]
    }
   ],
   "source": [
    "\n",
    "from collections import deque\n",
    "\n",
    "max = 1000001\n",
    "n,k = map(int, input().split())\n",
    "graph = [0]*max\n",
    "\n",
    "queue = deque()\n",
    "queue.append(n)\n",
    "while queue:\n",
    "    v = queue.popleft()\n",
    "    if v == k:\n",
    "        answer = graph[v]\n",
    "\n",
    "        \n",
    "    for next_node in (v-1, v+1, v*2):\n",
    "        #if 0 <= next_node < max and graph[next_node]==0:\n",
    "        if 0 <= next_node < max :\n",
    "            if graph[next_node]==0 :\n",
    "                graph[next_node] = graph[v] + 1\n",
    "                queue.append(next_node)\n",
    "print(answer)        \n",
    "\n"
   ]
  },
  {
   "cell_type": "code",
   "execution_count": 12,
   "metadata": {},
   "outputs": [
    {
     "name": "stdout",
     "output_type": "stream",
     "text": [
      "5 17\n",
      "4\n"
     ]
    }
   ],
   "source": [
    "from collections import deque\n",
    "n, k = map(int, input().split())\n",
    "max_size = 1000001    \n",
    "def bfs(n, k):\n",
    "    queue = deque()\n",
    "    queue.append(n)\n",
    "    check = [0] * max_size\n",
    "    \n",
    "    while queue:\n",
    "        v = queue.popleft()\n",
    "        \n",
    "        if v ==k:\n",
    "            return check[v]\n",
    "        \n",
    "        for i in (v-1, v+1, v*2):\n",
    "            if 0<= i < max_size and check[i] == 0:\n",
    "                check[i] = check[v] +1\n",
    "                queue.append(i)\n",
    "                \n",
    "print(bfs(n,k))"
   ]
  }
 ],
 "metadata": {
  "kernelspec": {
   "display_name": "Python 3",
   "language": "python",
   "name": "python3"
  },
  "language_info": {
   "codemirror_mode": {
    "name": "ipython",
    "version": 3
   },
   "file_extension": ".py",
   "mimetype": "text/x-python",
   "name": "python",
   "nbconvert_exporter": "python",
   "pygments_lexer": "ipython3",
   "version": "3.7.6"
  }
 },
 "nbformat": 4,
 "nbformat_minor": 4
}
