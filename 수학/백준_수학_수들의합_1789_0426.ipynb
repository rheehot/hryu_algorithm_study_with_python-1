{
 "cells": [
  {
   "cell_type": "markdown",
   "metadata": {},
   "source": [
    "n개 합이 s\n",
    "최대 n개 구하기\n",
    "\n",
    "### 풀이\n",
    "- 1부터 차례대로 더한 값을 answer에 누적시키고, cnt도 1씩 증가시킨다\n",
    "- 이때 answer>s라면, cnt-1해주고 break"
   ]
  },
  {
   "cell_type": "code",
   "execution_count": null,
   "metadata": {},
   "outputs": [],
   "source": [
    "s = int(input())\n",
    "i, cnt = 1, 0\n",
    "answer = 0\n",
    "while True:\n",
    "    if answer > s:\n",
    "        cnt -= 1\n",
    "        break\n",
    "    else:\n",
    "        answer += i\n",
    "        i += 1\n",
    "        cnt += 1\n",
    "print(cnt)"
   ]
  }
 ],
 "metadata": {
  "kernelspec": {
   "display_name": "Python 3",
   "language": "python",
   "name": "python3"
  },
  "language_info": {
   "codemirror_mode": {
    "name": "ipython",
    "version": 3
   },
   "file_extension": ".py",
   "mimetype": "text/x-python",
   "name": "python",
   "nbconvert_exporter": "python",
   "pygments_lexer": "ipython3",
   "version": "3.7.6"
  }
 },
 "nbformat": 4,
 "nbformat_minor": 4
}
