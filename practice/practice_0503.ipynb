{
 "cells": [
  {
   "cell_type": "code",
   "execution_count": 1,
   "metadata": {},
   "outputs": [
    {
     "name": "stdout",
     "output_type": "stream",
     "text": [
      "2 162\n",
      "5\n"
     ]
    }
   ],
   "source": [
    "from queue import PriorityQueue\n",
    "\n",
    "a, b = map(int, input().split())\n",
    "queue = PriorityQueue()\n",
    "queue.put((a, 1))\n",
    "\n",
    "while queue.qsize() > 0:\n",
    "    c, n = queue.get()\n",
    "    if c==b : \n",
    "        print(n)\n",
    "        break\n",
    "    elif c> b:\n",
    "        print(-1)\n",
    "        break\n",
    "    else:\n",
    "        queue.put((int(str(c)+\"1\"), n+1))\n",
    "        queue.put((c*2, n+1))"
   ]
  }
 ],
 "metadata": {
  "kernelspec": {
   "display_name": "Python 3",
   "language": "python",
   "name": "python3"
  },
  "language_info": {
   "codemirror_mode": {
    "name": "ipython",
    "version": 3
   },
   "file_extension": ".py",
   "mimetype": "text/x-python",
   "name": "python",
   "nbconvert_exporter": "python",
   "pygments_lexer": "ipython3",
   "version": "3.7.6"
  }
 },
 "nbformat": 4,
 "nbformat_minor": 4
}
