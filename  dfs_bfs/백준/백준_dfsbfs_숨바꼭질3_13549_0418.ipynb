{
 "cells": [
  {
   "cell_type": "code",
   "execution_count": 7,
   "metadata": {},
   "outputs": [
    {
     "name": "stdout",
     "output_type": "stream",
     "text": [
      "1 16\n",
      "0\n"
     ]
    }
   ],
   "source": [
    "# 1초 : v-1, v+1\n",
    "# 0초 : v*2\n",
    "from collections import deque\n",
    "\n",
    "n, k = map(int, input().split())\n",
    "max_size = 1000001\n",
    " \n",
    "def bfs():\n",
    "    queue = deque()\n",
    "    queue.append(n)\n",
    "    check = [-1]* max_size # 초기화\n",
    "    check[n]= 0 \n",
    "    while queue:\n",
    "        v = queue.popleft()\n",
    "        \n",
    "        if v == k:\n",
    "            return check[v]\n",
    "        \n",
    "        if 0<= v*2 < max_size and check[v*2] == -1:\n",
    "            check[v*2] = check[v] # 방문했음 표시\n",
    "            queue.append(v*2)\n",
    "            \n",
    "        for i in (v-1, v+1):\n",
    "            if 0<= i < max_size and check[i] == -1:\n",
    "                check[i] = check[v]+1\n",
    "                queue.append(i)\n",
    "print(bfs())"
   ]
  }
 ],
 "metadata": {
  "kernelspec": {
   "display_name": "Python 3",
   "language": "python",
   "name": "python3"
  },
  "language_info": {
   "codemirror_mode": {
    "name": "ipython",
    "version": 3
   },
   "file_extension": ".py",
   "mimetype": "text/x-python",
   "name": "python",
   "nbconvert_exporter": "python",
   "pygments_lexer": "ipython3",
   "version": "3.7.6"
  }
 },
 "nbformat": 4,
 "nbformat_minor": 4
}
