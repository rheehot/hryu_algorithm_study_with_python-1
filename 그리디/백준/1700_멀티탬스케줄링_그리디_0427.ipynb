{
 "cells": [
  {
   "cell_type": "markdown",
   "metadata": {},
   "source": [
    "### 풀이\n",
    "1. 멀티탭에 해당 전기용품 있는 경우 -> pass\n",
    "2. 멀티탭이 비어 있는 경우 -> 꽃기\n",
    "3. 멀티탭에 빈 공간 없는 경우\n",
    "    - 탭에 꽃혀 있는 것중 나중에 사용하는 것이 없는 경우 -> 뽑고 새로운 용품 사용\n",
    "    - 있는 경우 -> 이런 용품이 여러개라면 가장 추후에 사용하는 것으 뽑고 새로운 용품 사용"
   ]
  },
  {
   "cell_type": "code",
   "execution_count": 2,
   "metadata": {},
   "outputs": [
    {
     "name": "stdout",
     "output_type": "stream",
     "text": [
      "2 7\n",
      "2 3 2 3 1 2 7\n",
      "2\n"
     ]
    }
   ],
   "source": [
    "'''\n",
    "1. 멀티탭에 해당 전기용품 있는 경우 -> pass\n",
    "2. 멀티탭이 비어 있는 경우 -> 꽃기\n",
    "3. 멀티탭에 빈 공간 없는 경우\n",
    "- 탭에 꽃혀 있는 것중 나중에 사용하는 것이 없는 경우 -> 뽑고 새로운 용품 사용\n",
    "- 있는 경우 -> 이런 용품이 여러개라면 가장 추후에 사용하는 것으 뽑고 새로운 용품 사용\n",
    "'''\n",
    "n, k = map(int, input().split())\n",
    "arr = list(map(int, input().split()))\n",
    "tab = [0]*n\n",
    "answer = 0\n",
    "num = 0\n",
    "swap = 0\n",
    "idx = 0 # 추후에 사용할 용품으로 그 인덱스를 저장, 그 이유는 여러개를 재사용하는 경우\n",
    "# 가장 나중에 사용할 제품(혹은 사용할일 없는)을 먼저 뽑아주고 새 용품을 사용하려고\n",
    "for i in arr:\n",
    "\n",
    "    # 탭에 해당 제품 있는 경우\n",
    "    if i in tab:\n",
    "        pass # continue 말고 pass를 써야한다!!! <실수하지 말기>\n",
    "\n",
    "    # 탭에 빈 공간 있는 경우\n",
    "    elif 0 in tab:\n",
    "        tab[tab.index(0)] = i\n",
    "\n",
    "\n",
    "    # 빈 공간 없으며, 해당 제품 또한 탭에 없는 경우\n",
    "    else:\n",
    "        for j in tab:\n",
    "            if j not in arr[num :]:\n",
    "                swap = j\n",
    "                break\n",
    "            # j와 동일한 용품이 arr[num:]에 있고, 그것이 그 이전 인덱스보다 크다면\n",
    "            elif arr[num:].index(j) > idx:\n",
    "                idx = arr[num:].index(j) # j의 위치에 대기중인 동일한 용품을 두기, 이후에 사용할 것임\n",
    "                swap = j\n",
    "\n",
    "        tab[tab.index(swap)] = i # 새 용품 꽃기\n",
    "        idx = swap = 0\n",
    "        answer += 1 # 교환횟수\n",
    "    num += 1 # 용품 하나씩 체크할 때마다 +1\n",
    "\n",
    "print(answer)"
   ]
  }
 ],
 "metadata": {
  "kernelspec": {
   "display_name": "Python 3",
   "language": "python",
   "name": "python3"
  },
  "language_info": {
   "codemirror_mode": {
    "name": "ipython",
    "version": 3
   },
   "file_extension": ".py",
   "mimetype": "text/x-python",
   "name": "python",
   "nbconvert_exporter": "python",
   "pygments_lexer": "ipython3",
   "version": "3.7.6"
  }
 },
 "nbformat": 4,
 "nbformat_minor": 4
}
