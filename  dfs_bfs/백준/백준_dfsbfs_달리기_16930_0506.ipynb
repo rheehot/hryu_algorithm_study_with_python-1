{
 "cells": [
  {
   "cell_type": "code",
   "execution_count": 12,
   "metadata": {},
   "outputs": [
    {
     "name": "stdout",
     "output_type": "stream",
     "text": [
      "3 4 4\n",
      "....\n",
      "###.\n",
      "....\n",
      "1 1 3 1\n",
      "3\n"
     ]
    }
   ],
   "source": [
    "# 96% 시간초과 나는 코드\n",
    "# 내 고민 : k의 카운트\n",
    "# 최소시간 -> bfs\n",
    "from collections import deque\n",
    "n,m,k = map(int, input().split())\n",
    "graph = [list(map(str, input())) for _ in range(n)]\n",
    "x1, y1, x2, y2 = map(int, input().split())\n",
    "x1-=1; y1-=1; x2-=1; y2-=1\n",
    "visited = [[-1]*m for _ in range(n)]\n",
    "\n",
    "# 시계방향\n",
    "dx = [0, 1, 0, -1]\n",
    "dy = [-1, 0 ,1, 0]\n",
    "\n",
    "queue = deque()\n",
    "queue.append((x1, y1))\n",
    "visited[x1][y1]=0\n",
    "\n",
    "def bfs():\n",
    "    while queue:\n",
    "        x,y = queue.popleft()\n",
    "        for i in range(4):\n",
    "            nx = x + dx[i]\n",
    "            ny = y + dy[i]\n",
    "            nk =1\n",
    "            while 0 <= nx< n and 0<= ny<m and graph[nx][ny] == '.'and nk<= k :\n",
    "                if visited[nx][ny] ==-1:\n",
    "                    queue.append((nx, ny))\n",
    "                    visited[nx][ny] = visited[x][y] + 1\n",
    "                #같은 방향으로 가능하다면 전진\n",
    "                nx += dx[i]\n",
    "                ny += dy[i]\n",
    "                nk += 1\n",
    "bfs()\n",
    "if visited[x2][y2]== -1:\n",
    "    print(-1)\n",
    "else:\n",
    "    print(visited[x2][y2])\n",
    "    \n",
    "\n",
    "# 96%에서 시간초과 발생하는 코드 \n",
    "# 방문한 지점도 다시 생각해볼 필요 -> 탐색 방향에 따라 비효율적인\n",
    "# 방문이 가능하다. 3번에 갈 걸 4번에 갈수도 있어서\n",
    "# 방문한 지점(탐색 방향에 따라 방문이중첩) 생각해볼 필요\n",
    "# 최소시간을 보장하기 위해서 현재까지 구한 거리보다 최소인 경우메만 큐에 push \n",
    "# 큐에 push 할때 최소 거리 만들지 못하는 경우를 배제,\n",
    "\n",
    "# visted[nx][ny] == vistied[x][y]+1일때 continue\n",
    "# 이미 방문한 지점일 때 같은 가중치면 계속 가보는게 이득"
   ]
  },
  {
   "cell_type": "code",
   "execution_count": null,
   "metadata": {},
   "outputs": [],
   "source": [
    "# 성공한 코드\n",
    "from collections import deque\n",
    "n,m,k = map(int, input().split())\n",
    "graph = [list(map(str, input())) for _ in range(n)]\n",
    "x1, y1, x2, y2 = map(int, input().split())\n",
    "x1-=1; y1-=1; x2-=1; y2-=1\n",
    "visited = [[1004]*m for _ in range(n)]\n",
    "\n",
    "# 시계방향\n",
    "dx = [0, 1, 0, -1]\n",
    "dy = [-1, 0 ,1, 0]\n",
    "\n",
    "queue = deque()\n",
    "queue.append((x1, y1))\n",
    "visited[x1][y1]=0\n",
    "\n",
    "def bfs():\n",
    "    while queue:\n",
    "        x,y = queue.popleft()\n",
    "        for i in range(4):\n",
    "            nx = x + dx[i]\n",
    "            ny = y + dy[i]\n",
    "            nk =1\n",
    "            while 0 <= nx< n and 0<= ny<m and graph[nx][ny] == '.'and nk<= k and visited[nx][ny]>visited[x][y]:\n",
    "                if visited[nx][ny] ==1004:\n",
    "                    queue.append((nx, ny))\n",
    "                    visited[nx][ny] = visited[x][y] + 1\n",
    "                #같은 방향으로 가능하다면 전진\n",
    "                nx += dx[i]\n",
    "                ny += dy[i]\n",
    "                nk += 1\n",
    "bfs()\n",
    "if visited[x2][y2]== 1004:\n",
    "    print(-1)\n",
    "else:\n",
    "    print(visited[x2][y2])"
   ]
  }
 ],
 "metadata": {
  "kernelspec": {
   "display_name": "Python 3",
   "language": "python",
   "name": "python3"
  },
  "language_info": {
   "codemirror_mode": {
    "name": "ipython",
    "version": 3
   },
   "file_extension": ".py",
   "mimetype": "text/x-python",
   "name": "python",
   "nbconvert_exporter": "python",
   "pygments_lexer": "ipython3",
   "version": "3.7.6"
  }
 },
 "nbformat": 4,
 "nbformat_minor": 4
}
