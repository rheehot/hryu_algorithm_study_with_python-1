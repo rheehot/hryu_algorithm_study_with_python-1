{
 "cells": [
  {
   "cell_type": "code",
   "execution_count": null,
   "metadata": {},
   "outputs": [],
   "source": [
    "# 식량 창고가 일직선상일 때 최대한 많은 식량 얻기\n",
    "# 인접한 곳은 선택 못함\n",
    "'''\n",
    "4\n",
    "1315 -> 8\n",
    "'''\n",
    "# i번째에서 최적의 해를 구하기 위해서\n",
    "# (i-1번째 식량누적합)과 (i-2번째 식량 누적합+ 현재식량)을 비교한다\n",
    "# i-3번째는 고려할 필요가 없는 것이, 이미 dp테이블로 최적값이 계산되어 있다.\n",
    "# d[i] = max(d[i-1], d[i-2]+k)"
   ]
  },
  {
   "cell_type": "code",
   "execution_count": 3,
   "metadata": {},
   "outputs": [
    {
     "name": "stdout",
     "output_type": "stream",
     "text": [
      "4\n",
      "1 3 1 5\n",
      "8\n"
     ]
    }
   ],
   "source": [
    "n = int(input())\n",
    "arr = list(map(int, input().split()))\n",
    "dp = [0]*100\n",
    "\n",
    "dp[0] = arr[0]\n",
    "dp[1] = max(arr[0], arr[1])\n",
    "for i in range(2, n):\n",
    "    dp[i] = max(dp[i-1], dp[i-2]+arr[i])\n",
    "print(dp[n-1])"
   ]
  }
 ],
 "metadata": {
  "kernelspec": {
   "display_name": "Python 3",
   "language": "python",
   "name": "python3"
  },
  "language_info": {
   "codemirror_mode": {
    "name": "ipython",
    "version": 3
   },
   "file_extension": ".py",
   "mimetype": "text/x-python",
   "name": "python",
   "nbconvert_exporter": "python",
   "pygments_lexer": "ipython3",
   "version": "3.7.6"
  }
 },
 "nbformat": 4,
 "nbformat_minor": 4
}
