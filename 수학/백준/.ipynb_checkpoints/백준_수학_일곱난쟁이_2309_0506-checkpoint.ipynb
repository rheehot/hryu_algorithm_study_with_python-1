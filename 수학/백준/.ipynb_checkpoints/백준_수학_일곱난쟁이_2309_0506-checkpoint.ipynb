{
 "cells": [
  {
   "cell_type": "code",
   "execution_count": 12,
   "metadata": {},
   "outputs": [
    {
     "name": "stdout",
     "output_type": "stream",
     "text": [
      "20\n",
      "7\n",
      "23\n",
      "19\n",
      "10\n",
      "15\n",
      "25\n",
      "8\n",
      "13\n",
      "7\n",
      "8\n",
      "10\n",
      "13\n",
      "19\n",
      "20\n",
      "23\n"
     ]
    }
   ],
   "source": [
    "\n",
    "arr = [int(input()) for _ in range(9)]\n",
    "arr.sort()\n",
    "total = sum(arr)\n",
    "for i in range(9):\n",
    "    for j in range(i+1, 9):\n",
    "        if total-arr[i]- arr[j]== 100:\n",
    "            n1, n2 = arr[i], arr[j]\n",
    "            arr.remove(n1)\n",
    "            arr.remove(n2)\n",
    "            for i in range(len(arr)):\n",
    "                print(arr[i])\n",
    "            break\n",
    "    if len(arr) < 9:\n",
    "        break\n",
    "                \n",
    "    "
   ]
  }
 ],
 "metadata": {
  "kernelspec": {
   "display_name": "Python 3",
   "language": "python",
   "name": "python3"
  },
  "language_info": {
   "codemirror_mode": {
    "name": "ipython",
    "version": 3
   },
   "file_extension": ".py",
   "mimetype": "text/x-python",
   "name": "python",
   "nbconvert_exporter": "python",
   "pygments_lexer": "ipython3",
   "version": "3.7.6"
  }
 },
 "nbformat": 4,
 "nbformat_minor": 4
}
