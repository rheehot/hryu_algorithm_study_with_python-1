{
 "cells": [
  {
   "cell_type": "code",
   "execution_count": 1,
   "metadata": {},
   "outputs": [
    {
     "name": "stdout",
     "output_type": "stream",
     "text": [
      "2 20 50\n",
      "50 30\n",
      "20 40\n",
      "[[(0, 0), (1, 0), (0, 1), (1, 1)]]\n"
     ]
    },
    {
     "ename": "NameError",
     "evalue": "name 'move_population' is not defined",
     "output_type": "error",
     "traceback": [
      "\u001b[1;31m---------------------------------------------------------------------------\u001b[0m",
      "\u001b[1;31mNameError\u001b[0m                                 Traceback (most recent call last)",
      "\u001b[1;32m<ipython-input-1-01308b544542>\u001b[0m in \u001b[0;36m<module>\u001b[1;34m\u001b[0m\n\u001b[0;32m     49\u001b[0m                 \u001b[0mfind_group\u001b[0m\u001b[1;33m(\u001b[0m\u001b[0mi\u001b[0m\u001b[1;33m,\u001b[0m \u001b[0mj\u001b[0m\u001b[1;33m)\u001b[0m\u001b[1;33m\u001b[0m\u001b[1;33m\u001b[0m\u001b[0m\n\u001b[0;32m     50\u001b[0m     \u001b[1;32mif\u001b[0m \u001b[0mgroup_list\u001b[0m\u001b[1;33m:\u001b[0m \u001b[1;31m# 연합 찾았다면\u001b[0m\u001b[1;33m\u001b[0m\u001b[1;33m\u001b[0m\u001b[0m\n\u001b[1;32m---> 51\u001b[1;33m         \u001b[0mmove_population\u001b[0m\u001b[1;33m(\u001b[0m\u001b[0mgroup_list\u001b[0m\u001b[1;33m)\u001b[0m\u001b[1;33m\u001b[0m\u001b[1;33m\u001b[0m\u001b[0m\n\u001b[0m\u001b[0;32m     52\u001b[0m         \u001b[0mtotal_population\u001b[0m \u001b[1;33m+=\u001b[0m \u001b[1;36m1\u001b[0m\u001b[1;33m\u001b[0m\u001b[1;33m\u001b[0m\u001b[0m\n\u001b[0;32m     53\u001b[0m     \u001b[1;32melse\u001b[0m\u001b[1;33m:\u001b[0m\u001b[1;33m\u001b[0m\u001b[1;33m\u001b[0m\u001b[0m\n",
      "\u001b[1;31mNameError\u001b[0m: name 'move_population' is not defined"
     ]
    }
   ],
   "source": [
    "# 인구이동\n",
    "# 조건이 만족하면 인접노드 탐색하여 연합을 이루는 국가 찾기\n",
    "# 가능하다면, 인구수 변환\n",
    "# 이루어지지 않은나라있다면, 연합 가능한지 다시 탐색하기\n",
    "# 인접행렬인경우, 방향탐색 ! 까먹지 말기 햇갈리지 말기\n",
    "# 인접행렬 입력받을 때 파이써닉 -> n줄 입력만 반복해주고, 칸의 수를 다 입력하니까 split 이용하기\n",
    "# 인구이동 몇 번 일나는가\n",
    "# 이코드 시간초과 - 패쓰하기\n",
    "from collections import deque\n",
    "\n",
    "\n",
    "def find_group(x, y): # 연합그룹을 찾을 거야\n",
    "    q = deque() # 인접 노드 찾기 위해 사용.\n",
    "    q.append((x, y))\n",
    "    group = [] #연합가능한 나라 찾아서 변수에 넣어주기\n",
    "    group.append((x, y))\n",
    "    while q:\n",
    "        a, b = q.popleft()\n",
    "        for t in range(4):\n",
    "            nx = a + dx[t]\n",
    "            ny = b + dy[t]\n",
    "            if (0<= nx <n) and (0<= ny <n) and (nx, ny) not in visited:\n",
    "                if l <= abs(graph[a][b]- graph[nx][ny]) <= r:\n",
    "                    group.append((nx, ny))\n",
    "                    q.append((nx, ny))\n",
    "                    visited.append((nx, ny))\n",
    "    \n",
    "    if len(group) > 1:\n",
    "        group_list.append(group)\n",
    "        \n",
    "            \n",
    "            \n",
    "            \n",
    "n,l,r = map(int, input().split())\n",
    "graph = [list(map(int, input().split())) for _ in range(n)] \n",
    "\n",
    "# 인접행렬이니까 방향탐색할 것임\n",
    "dx = [-1, 1, 0, 0]\n",
    "dy = [0, 0, -1, 1]\n",
    "\n",
    "total_population = 0 # 인구이동 횟수\n",
    "\n",
    "while True: # 인구이동 가능할 때 까지 반복하기 위해 사용\n",
    "    group_list = [] # 연합그룹\n",
    "    visited = [] # 방문체크\n",
    "    for i in range(n):\n",
    "        for j in range(n):\n",
    "            if (i, j) not in visited:\n",
    "                visited.append((i,j))\n",
    "                find_group(i, j)\n",
    "    if group_list: # 연합 찾았다면, 엽합에 나라가 총 2개 이상\n",
    "        move_population(group_list)\n",
    "        total_population += 1\n",
    "    else:\n",
    "        break\n",
    "print(total_population)\n",
    "        \n",
    "    \n",
    "    "
   ]
  },
  {
   "cell_type": "code",
   "execution_count": 3,
   "metadata": {},
   "outputs": [
    {
     "name": "stdout",
     "output_type": "stream",
     "text": [
      "7\n",
      "6\n",
      "1 2\n",
      "1 5\n",
      "2 3\n",
      "4 7\n",
      "5 2\n",
      "5 6\n",
      "4\n"
     ]
    }
   ],
   "source": [
    "# 바이러스\n",
    "def dfs(graph, v, visited):\n",
    "    visited[v] = 1\n",
    "    \n",
    "    for i in graph[v]:\n",
    "        if visited[i] == 0:\n",
    "            dfs(graph, i, visited)\n",
    "        \n",
    "n = int(input())\n",
    "m = int(input())\n",
    "graph = [[] for _ in range(n+1)]\n",
    "for _ in range(m):\n",
    "    a, b = map(int, input().split())\n",
    "    graph[a].append(b)\n",
    "    graph[b].append(a)\n",
    "    \n",
    "visited = [0]*(n+1)\n",
    "dfs(graph, 1, visited)\n",
    "\n",
    "cnt = 0\n",
    "for i in visited:\n",
    "    if i ==1:\n",
    "        cnt+=1\n",
    "print(cnt-1)"
   ]
  },
  {
   "cell_type": "code",
   "execution_count": 6,
   "metadata": {},
   "outputs": [
    {
     "name": "stdout",
     "output_type": "stream",
     "text": [
      "5 17\n",
      "4\n",
      "2\n"
     ]
    }
   ],
   "source": [
    "# 숨바꼭질2\n",
    "from collections import deque\n",
    "max_size = 1000001\n",
    "\n",
    "n, k = map(int, input().split())\n",
    "check = [[-1, 0] for _ in range(max_size)] # check[][0] : 최소시간, check[][1] : 방법의수\n",
    "\n",
    "def bfs(n):\n",
    "    queue = deque()\n",
    "    queue.append(n)\n",
    "    check[n][0] = 0\n",
    "    check[n][1] = 1 \n",
    "    \n",
    "    while queue:\n",
    "        v = queue.popleft()\n",
    "        for i in (v-1, v+1, v*2):\n",
    "            if 0<= i< max_size:\n",
    "                if check[i][0] == -1: # 처음 방문\n",
    "                    queue.append(i) # 삽입 먼저 하자\n",
    "                    check[i][0] = check[v][0] + 1 \n",
    "                    check[i][1] = check[v][1]\n",
    "                    \n",
    "                elif check[i][0] == check[v][0] + 1: # 한번 이상 들르는 경우\n",
    "                    check[i][1] += check[v][1]\n",
    "                 \n",
    "\n",
    "bfs(n)\n",
    "print(check[k][0])\n",
    "print(check[k][1])\n"
   ]
  },
  {
   "cell_type": "code",
   "execution_count": 10,
   "metadata": {},
   "outputs": [
    {
     "name": "stdout",
     "output_type": "stream",
     "text": [
      "1 16\n",
      "0\n"
     ]
    }
   ],
   "source": [
    "# 숨바꼭질3\n",
    "\n",
    "from collections import deque\n",
    "\n",
    "n, k = map(int, input().split())\n",
    "max_size = 1000001\n",
    "\n",
    "def bfs():\n",
    "    queue = deque()\n",
    "    queue.append(n)\n",
    "    check = [-1]* max_size\n",
    "    check[n] = 0\n",
    "    \n",
    "    while queue:\n",
    "        v = queue.popleft()\n",
    "        \n",
    "        if v ==k:\n",
    "            return check[v]\n",
    "        \n",
    "        \n",
    "        if 0<=v*2 <max_size and check[v*2] == -1:\n",
    "            check[v*2] = check[v] \n",
    "            queue.append(v*2)\n",
    "        \n",
    "        for i in (v-1, v+1):\n",
    "            if 0<= i< max_size and check[i] == -1:\n",
    "                check[i] = check[v]+1\n",
    "                queue.append(i)\n",
    "                \n",
    "\n",
    "print(bfs())\n",
    " "
   ]
  },
  {
   "cell_type": "code",
   "execution_count": 16,
   "metadata": {},
   "outputs": [
    {
     "name": "stdout",
     "output_type": "stream",
     "text": [
      "5 17\n",
      "4\n",
      "5 4 8 16 17\n"
     ]
    }
   ],
   "source": [
    "from collections import deque\n",
    "\n",
    "max_size = 1000001\n",
    "n,k = map(int, input().split()) \n",
    "check  = [[-1, -1] for _ in range(max_size+1)]\n",
    "\n",
    "def bfs(n):\n",
    "    queue = deque()\n",
    "    queue.append(n)\n",
    "    check[n][0] =0\n",
    "    \n",
    "    while queue:\n",
    "        v = queue.popleft()\n",
    "        \n",
    "        if v ==k:\n",
    "            return check[k][0]\n",
    "        \n",
    "        for i in (v-1, v+1, v*2):\n",
    "            if 0<= i < max_size:\n",
    "                if check[i][0] == -1:\n",
    "                    check[i][0] = check[v][0] +1\n",
    "                    check[i][1] = v \n",
    "                    queue.append(i)\n",
    "                    \n",
    "print(bfs(n))\n",
    "\n",
    "temp = []\n",
    "temp.append(k)\n",
    "while True:\n",
    "    if check[k][1] != -1:\n",
    "        temp.append(check[k][1])\n",
    "        k = check[k][1]\n",
    "    else:\n",
    "        break\n",
    "temp.reverse()\n",
    "print(' '.join(map(str, temp)))\n",
    "    "
   ]
  }
 ],
 "metadata": {
  "kernelspec": {
   "display_name": "Python 3",
   "language": "python",
   "name": "python3"
  },
  "language_info": {
   "codemirror_mode": {
    "name": "ipython",
    "version": 3
   },
   "file_extension": ".py",
   "mimetype": "text/x-python",
   "name": "python",
   "nbconvert_exporter": "python",
   "pygments_lexer": "ipython3",
   "version": "3.7.6"
  }
 },
 "nbformat": 4,
 "nbformat_minor": 4
}
