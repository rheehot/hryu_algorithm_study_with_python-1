{
 "cells": [
  {
   "cell_type": "markdown",
   "metadata": {},
   "source": [
    "## 문제설명\n",
    "- N*N 복도 -> 선생님, 학생, 장애물 위치\n",
    "- 학생들은 감시 빠져나오는게 목표\n",
    "- 선생 => 상 하 좌 우 이동 ( 장애물전 전까지 다 확인 가능 )\n",
    "- 3개의 장애물 설치해야 !!\n",
    "- 선생님 5 이하 자연수\n",
    "- 입력\n",
    "    - N(3~6)\n",
    "    -  전체 선생님의 수는 5이하의 자연수,   \n",
    "    전체 학생의 수는 30이하의 자연수이며   \n",
    "    항상 빈 칸의 개수는 3개 이상  \n",
    "\n",
    "~~~\n",
    "5\n",
    "X S X X T\n",
    "T X S X X\n",
    "X X X X X\n",
    "X T X X X\n",
    "X X T X X     ->    YES\n",
    "~~~   \n",
    "\n",
    "~~~\n",
    "4\n",
    "S S S T\n",
    "X X X X\n",
    "X X X X\n",
    "T T T X   ->  NO\n",
    "~~~"
   ]
  },
  {
   "cell_type": "markdown",
   "metadata": {},
   "source": [
    "### 포인트\n",
    "- dfs 로 해결 \n",
    "- 조합\n",
    "- 벽을 세울 곳 조합을 찾고, 벽 세우면 선생님이 탐색할 수 있는 방향 T로 채우고, 학생 위치 T OR S \n",
    "확인해서 YES OR NO\n",
    "\n",
    "---\n",
    "1. 장애물을 놓을 수 있는 공간을 리스트로 저장  \n",
    "2. combination을 활용해 장애물을 놓을 수 있는 위치 확인  \n",
    "3. 2에서 정한 장애물을 위치대로 전체 지도에 장애물을 배치  \n",
    "4. check 함수를 통해 각 경우별로 선생님에게 잡히는 학생이 없는지 확인\n",
    "5. 선생님의 위치마다 동서남북 방향으로 T 채운다\n",
    "6. 다 채웠으면 각 학생의 위치의 BOARD가  \"T\"인지 \"S\" 인지를 확인해\n",
    "\"S\"가 아닌 경우 1명이라도 선생님에게 잡힌 경우니 이 장애물 배치는 False 다.\n",
    "7. YES OR NO 결정"
   ]
  },
  {
   "cell_type": "code",
   "execution_count": 1,
   "metadata": {},
   "outputs": [
    {
     "name": "stdout",
     "output_type": "stream",
     "text": [
      "4\n"
     ]
    },
    {
     "ename": "IndexError",
     "evalue": "list index out of range",
     "output_type": "error",
     "traceback": [
      "\u001b[1;31m---------------------------------------------------------------------------\u001b[0m",
      "\u001b[1;31mIndexError\u001b[0m                                Traceback (most recent call last)",
      "\u001b[1;32m<ipython-input-1-818b8c606821>\u001b[0m in \u001b[0;36m<module>\u001b[1;34m\u001b[0m\n\u001b[0;32m     16\u001b[0m \u001b[1;32mfor\u001b[0m \u001b[0mi\u001b[0m \u001b[1;32min\u001b[0m \u001b[0mrange\u001b[0m\u001b[1;33m(\u001b[0m\u001b[0mn\u001b[0m\u001b[1;33m)\u001b[0m\u001b[1;33m:\u001b[0m\u001b[1;33m\u001b[0m\u001b[1;33m\u001b[0m\u001b[0m\n\u001b[0;32m     17\u001b[0m     \u001b[1;32mfor\u001b[0m \u001b[0mj\u001b[0m \u001b[1;32min\u001b[0m \u001b[0mrange\u001b[0m\u001b[1;33m(\u001b[0m\u001b[0mn\u001b[0m\u001b[1;33m)\u001b[0m\u001b[1;33m:\u001b[0m\u001b[1;33m\u001b[0m\u001b[1;33m\u001b[0m\u001b[0m\n\u001b[1;32m---> 18\u001b[1;33m         \u001b[1;32mif\u001b[0m \u001b[0mboard\u001b[0m\u001b[1;33m[\u001b[0m\u001b[0mi\u001b[0m\u001b[1;33m]\u001b[0m\u001b[1;33m[\u001b[0m\u001b[0mj\u001b[0m\u001b[1;33m]\u001b[0m \u001b[1;33m==\u001b[0m\u001b[1;34m'X'\u001b[0m\u001b[1;33m:\u001b[0m\u001b[1;33m\u001b[0m\u001b[1;33m\u001b[0m\u001b[0m\n\u001b[0m\u001b[0;32m     19\u001b[0m             \u001b[0mempty_space\u001b[0m\u001b[1;33m.\u001b[0m\u001b[0mappend\u001b[0m\u001b[1;33m(\u001b[0m\u001b[1;33m[\u001b[0m\u001b[0mi\u001b[0m\u001b[1;33m,\u001b[0m \u001b[0mj\u001b[0m\u001b[1;33m]\u001b[0m\u001b[1;33m)\u001b[0m\u001b[1;33m\u001b[0m\u001b[1;33m\u001b[0m\u001b[0m\n\u001b[0;32m     20\u001b[0m         \u001b[1;32melif\u001b[0m \u001b[0mboard\u001b[0m\u001b[1;33m[\u001b[0m\u001b[0mi\u001b[0m\u001b[1;33m]\u001b[0m\u001b[1;33m[\u001b[0m\u001b[0mj\u001b[0m\u001b[1;33m]\u001b[0m \u001b[1;33m==\u001b[0m \u001b[1;34m'T'\u001b[0m\u001b[1;33m:\u001b[0m\u001b[1;33m\u001b[0m\u001b[1;33m\u001b[0m\u001b[0m\n",
      "\u001b[1;31mIndexError\u001b[0m: list index out of range"
     ]
    }
   ],
   "source": [
    "from sys import stdin\n",
    "from itertools import combinations\n",
    "from copy import deepcopy\n",
    "\n",
    "# 왼 위 아래 오른\n",
    "dx = [1, 0, -1, 0]\n",
    "dy = [0, 1, 0, -1]\n",
    "\n",
    "n = int(input())\n",
    "board = [list(map(str, stdin.readline().split())) for _ in range(n)]\n",
    "\n",
    "empty_space = [] # 맵 하나 더 만들기 -> 맵에 변형을 주고 반영\n",
    "teachers = []\n",
    "students = []\n",
    "\n",
    "for i in range(n):\n",
    "    for j in range(n):\n",
    "        if board[i][j] =='X':\n",
    "            empty_space.append([i, j])\n",
    "        elif board[i][j] == 'T':\n",
    "            empty_space.append([i, j])\n",
    "        elif board[i][j] == 'S':\n",
    "            empty_space.append([i, j])\n",
    "            \n",
    "def dfs(board, x, y, idx):\n",
    "    global n\n",
    "    if x < 0 or x >= n or y < 0 or y >= n or board[x][y] == 'O':\n",
    "        return\n",
    "    else:\n",
    "        board[x][y] = 'T'\n",
    "        dfs(board, x+dx[idx], y+dy[idx], idx)   \n",
    "        \n",
    "def check():\n",
    "    copy_board = deepcopy(board) # 복사한 맴 사용 , 원본 보호\n",
    "    for [x, y] in teachers:\n",
    "        for i in range(4):\n",
    "            dfs(copy_board, x, y, i)\n",
    "    for [x, y] in students:\n",
    "        if copy_board[x][y] != 'S':\n",
    "            return False\n",
    "    return True\n",
    "\n",
    "for case in list(combinations(empty_space, 3)):\n",
    "    for [x,y] in case:\n",
    "        board[x][y] = 'O'\n",
    "    if check():\n",
    "        print(\"YES\")\n",
    "        exit()\n",
    "    for [x,y] in case:\n",
    "        board[x][y] = 'X' # 다시 원상태로?\n",
    "\n",
    "print(\"NO\")\n",
    "\n",
    "### IndexError: list index out of range why???"
   ]
  },
  {
   "cell_type": "code",
   "execution_count": null,
   "metadata": {},
   "outputs": [],
   "source": []
  }
 ],
 "metadata": {
  "kernelspec": {
   "display_name": "Python 3",
   "language": "python",
   "name": "python3"
  },
  "language_info": {
   "codemirror_mode": {
    "name": "ipython",
    "version": 3
   },
   "file_extension": ".py",
   "mimetype": "text/x-python",
   "name": "python",
   "nbconvert_exporter": "python",
   "pygments_lexer": "ipython3",
   "version": "3.7.6"
  }
 },
 "nbformat": 4,
 "nbformat_minor": 4
}
