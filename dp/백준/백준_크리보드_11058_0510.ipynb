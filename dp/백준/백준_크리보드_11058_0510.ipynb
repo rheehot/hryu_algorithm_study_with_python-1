{
 "cells": [
  {
   "cell_type": "code",
   "execution_count": 1,
   "metadata": {},
   "outputs": [
    {
     "name": "stdout",
     "output_type": "stream",
     "text": [
      "100\n",
      "1391569403904\n"
     ]
    }
   ],
   "source": [
    "# n : 1~6 -> n\n",
    "# 3 : a a a  3\n",
    "# 7 : a a a |  c-a c-c c-v c-v |  9\n",
    "# 11: a a a |  c-a c-c c-v c-v |  c-a c-c c-v c-v  | 27\n",
    "# \n",
    "n = int(input())\n",
    "dp= [0]*(101)\n",
    "\n",
    "dp[1] =1 ; dp[2] =2; dp[3]=3; dp[4]=4; dp[5]=5; dp[6]=6\n",
    "\n",
    "for i in range(7, 101):\n",
    "    # i-3의 값을 선택, i-2떄 복사, i-1때 붙여넣기 -> 같은 값을 1번 복사한 꼴\n",
    "    # i-4 -> 2번 복사한 꼴, i-5 -> 3번 복사한 꼴\n",
    "    # dp[i-j]*(j-1) : i-j>0\n",
    "#     DP[i-1] + 1 (A만 누르는 경우)\n",
    "# DP[i-3] * 2 (3칸전 값 전체 복사 붙여넣기)\n",
    "# DP[i-4] * 3 (4칸전 값 전체 복사 붙여넣기 * 2)\n",
    "# DP[i-5] * 4 (5칸전 값 전체 복사 붙여넣기 * 3)\n",
    "    dp[i] = max(dp[i-1]+1,dp[i-3]*2, dp[i-4]*3,dp[i-5]*4)\n",
    "print(dp[n])\n",
    "        "
   ]
  }
 ],
 "metadata": {
  "kernelspec": {
   "display_name": "Python 3",
   "language": "python",
   "name": "python3"
  },
  "language_info": {
   "codemirror_mode": {
    "name": "ipython",
    "version": 3
   },
   "file_extension": ".py",
   "mimetype": "text/x-python",
   "name": "python",
   "nbconvert_exporter": "python",
   "pygments_lexer": "ipython3",
   "version": "3.7.6"
  }
 },
 "nbformat": 4,
 "nbformat_minor": 4
}
