{
 "cells": [
  {
   "cell_type": "code",
   "execution_count": 23,
   "metadata": {},
   "outputs": [
    {
     "name": "stdout",
     "output_type": "stream",
     "text": [
      "10\n",
      "5\n",
      "1 5\n",
      "1 3\n",
      "1 2\n",
      "1 6\n",
      "1 7\n",
      "4 \n",
      "8 D\n",
      "10 D\n",
      "11 D\n",
      "13 L\n",
      "13\n"
     ]
    }
   ],
   "source": [
    "# 뱀 2\n",
    "# 사과 3\n",
    "# 벽 1\n",
    "# 빈공간 0\n",
    "\n",
    "n = int(input())\n",
    "k = int(input())\n",
    "graph = [[1]*(n+2)] + [[1] + [0]*n + [1] for _ in range(n)] + [[1]*(n+2)] # 그래프 만ㄷ는 법 ***\n",
    "# graph = [[0] * (n + 1) for _ in range(n + 1)]\n",
    "\n",
    "for _ in range(k):\n",
    "    a, b = map(int, input().split())\n",
    "    graph[a][b] = 3\n",
    "    \n",
    "times = [] # 시간과 회전 정보   \n",
    "l = int(input())\n",
    "for _ in range(l):\n",
    "    x, c = map(str, input().split())\n",
    "    times.append((int(x), c))\n",
    "\n",
    "# 시계 방향: 동: 0  남:1  서:2  북:3\n",
    "dx = [0, 1, 0, -1]\n",
    "dy = [1, 0, -1, 0]\n",
    "\n",
    "def turn(direction, c):\n",
    "    if c == \"L\":\n",
    "        direction = (direction - 1)% 4\n",
    "    else: \n",
    "        direction = (direction + 1)% 4\n",
    "    return direction\n",
    "\n",
    "def go():\n",
    "    x, y = 1,1 # 뱀 머리\n",
    "    graph[x][y] = 2 # 뱀 \n",
    "    direction = 0\n",
    "    time = 0 # 시작한 뒤에 초 시간\n",
    "    next_turn = 0 # x초 후 회전할 정보\n",
    "    q = [(x, y)] # 뱀이 차지한 위치 (꼬리가 앞)\n",
    "    \n",
    "    while True:\n",
    "        nx = x + dx[direction]\n",
    "        ny = y + dy[direction]\n",
    "        \n",
    "        if 1<= nx and nx <= n and 1<= ny and ny <= n and graph[nx][ny] != 2 :\n",
    "            # 사과 없다면 이동 후 꼬리 제거하기\n",
    "            if graph[nx][ny] == 0:\n",
    "                graph[nx][ny] = 2\n",
    "                q.append((nx, ny))\n",
    "                tx, ty = q.pop(0) # 꼬리 제거\n",
    "                graph[tx][ty] = 0\n",
    "            # 사과 있다면 사과 제거, 꼬리 그대로\n",
    "            if graph[nx][ny] == 3:\n",
    "                graph[nx][ny] = 2\n",
    "                q.append((nx, ny))\n",
    "        # 부딪혔다면\n",
    "        else:\n",
    "            time += 1\n",
    "            break\n",
    "        x, y = nx, ny # 다음 위치로 머리 이동\n",
    "        time+= 1\n",
    "        if next_turn  < l and time == times[next_turn][0]: # 최전할 시간이 되면 회전하기\n",
    "            direction = turn(direction, times[next_turn][1])\n",
    "            next_turn+= 1\n",
    "    return time\n",
    "print(go())\n",
    "        "
   ]
  },
  {
   "cell_type": "code",
   "execution_count": 15,
   "metadata": {},
   "outputs": [
    {
     "name": "stdout",
     "output_type": "stream",
     "text": [
      "3\n",
      "-1\n"
     ]
    }
   ],
   "source": [
    "s= -1 % 4\n",
    "t = -1 // 4 # 내림 .. \n",
    "print(s)\n",
    "print(t)"
   ]
  }
 ],
 "metadata": {
  "kernelspec": {
   "display_name": "Python 3",
   "language": "python",
   "name": "python3"
  },
  "language_info": {
   "codemirror_mode": {
    "name": "ipython",
    "version": 3
   },
   "file_extension": ".py",
   "mimetype": "text/x-python",
   "name": "python",
   "nbconvert_exporter": "python",
   "pygments_lexer": "ipython3",
   "version": "3.7.6"
  }
 },
 "nbformat": 4,
 "nbformat_minor": 4
}
