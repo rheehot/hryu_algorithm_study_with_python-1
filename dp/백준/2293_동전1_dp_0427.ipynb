{
 "cells": [
  {
   "cell_type": "code",
   "execution_count": null,
   "metadata": {},
   "outputs": [],
   "source": [
    "~~~\n",
    "3 10\n",
    "1\n",
    "2\n",
    "5\n",
    "~~~\n",
    "\n",
    "그리디냐 디피냐 동전문제 분석해서 정리하는 시간 갖기\n",
    "# https://mong9data.tistory.com/68 참고하기"
   ]
  },
  {
   "cell_type": "code",
   "execution_count": 3,
   "metadata": {},
   "outputs": [
    {
     "name": "stdout",
     "output_type": "stream",
     "text": [
      "3 10\n",
      "1\n",
      "2\n",
      "5\n",
      "10\n"
     ]
    }
   ],
   "source": [
    "n, k = map(int,input().split())\n",
    "arr = []\n",
    "for _ in range(n):\n",
    "    arr.append(int(input()))\n",
    "arr.sort()\n",
    "dp = [0]*(k+1)\n",
    "dp[0] = 1 # 동전 1개 쓸 때 경우의 수\n",
    "for i in arr:\n",
    "    for j in range(i, k+1):\n",
    "           dp[j] += dp[j-i]\n",
    "\n",
    "print(dp[k])\n"
   ]
  }
 ],
 "metadata": {
  "kernelspec": {
   "display_name": "Python 3",
   "language": "python",
   "name": "python3"
  },
  "language_info": {
   "codemirror_mode": {
    "name": "ipython",
    "version": 3
   },
   "file_extension": ".py",
   "mimetype": "text/x-python",
   "name": "python",
   "nbconvert_exporter": "python",
   "pygments_lexer": "ipython3",
   "version": "3.7.6"
  }
 },
 "nbformat": 4,
 "nbformat_minor": 4
}
