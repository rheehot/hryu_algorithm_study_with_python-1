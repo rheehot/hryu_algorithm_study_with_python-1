{
 "cells": [
  {
   "cell_type": "code",
   "execution_count": 4,
   "metadata": {},
   "outputs": [
    {
     "name": "stdout",
     "output_type": "stream",
     "text": [
      "3 15\n",
      "1 \n",
      "5 \n",
      "12\n",
      "3\n"
     ]
    }
   ],
   "source": [
    "# dp[i] : i원을 만드는 동전의 최소개수\n",
    "n, m = map(int, input().split())\n",
    "arr = []\n",
    "for _ in range(n):\n",
    "    arr.append(int(input()))\n",
    "dp = [10001]*(m+1) #최솟값 구하기 위해 초기화\n",
    "dp[0] = 0 \n",
    "arr.sort()\n",
    "for i in arr:\n",
    "    for j in range(i, m+1):\n",
    "        dp[j] = min(dp[j], dp[j-i]+1)\n",
    "if dp[-1] != 10001:\n",
    "    print(dp[m])\n",
    "else: \n",
    "    print(-1)"
   ]
  }
 ],
 "metadata": {
  "kernelspec": {
   "display_name": "Python 3",
   "language": "python",
   "name": "python3"
  },
  "language_info": {
   "codemirror_mode": {
    "name": "ipython",
    "version": 3
   },
   "file_extension": ".py",
   "mimetype": "text/x-python",
   "name": "python",
   "nbconvert_exporter": "python",
   "pygments_lexer": "ipython3",
   "version": "3.7.6"
  }
 },
 "nbformat": 4,
 "nbformat_minor": 4
}
