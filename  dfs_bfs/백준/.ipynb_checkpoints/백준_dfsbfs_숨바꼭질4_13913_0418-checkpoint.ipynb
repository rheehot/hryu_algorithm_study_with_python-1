{
 "cells": [
  {
   "cell_type": "code",
   "execution_count": null,
   "metadata": {},
   "outputs": [],
   "source": [
    "# check 배열을 2차원으로"
   ]
  },
  {
   "cell_type": "code",
   "execution_count": 9,
   "metadata": {},
   "outputs": [
    {
     "name": "stdout",
     "output_type": "stream",
     "text": [
      "5 17\n",
      "4\n",
      "5 10 9 18 17\n"
     ]
    }
   ],
   "source": [
    "# 다시하기\n",
    "\n",
    "from collections import deque\n",
    "max_size = 1000001\n",
    "n,k = map(int, input().split())\n",
    "ch = [[-1, -1] for _ in range(max_size+1)]\n",
    "\n",
    "def bfs(n):\n",
    "    queue = deque()\n",
    "    queue.append(n)\n",
    "    ch[n][0] = 0 # 해당지점에 가는데 걸린시간\n",
    "    \n",
    "    while queue:\n",
    "        v = queue.popleft()\n",
    "        \n",
    "        if v ==k:\n",
    "            return ch[k][0]\n",
    "        \n",
    "        for i in (v*2, v+1, v-1):\n",
    "            if 0<= i < max_size:\n",
    "                if ch[i][0] == -1:\n",
    "                    ch[i][0] = ch[v][0] + 1 # 해당지점에 가는데 걸린시간\n",
    "                    ch[i][1] = v # 이전에 방문한 지점 , 이것을 통해 어떻게 이동했는지 추적할 것임\n",
    "                    queue.append(i)\n",
    "print(bfs(n)) # 가장 빠른 시간\n",
    "\n",
    "temp = []\n",
    "temp.append(k)\n",
    "\n",
    "while True:\n",
    "    if ch[k][1] != -1:\n",
    "        temp.append(ch[k][1]) # 거꾸로 temp에 담김\n",
    "        k = ch[k][1] #이전에 방문한 지점이 ㅏ가 되고 반복\n",
    "    else:\n",
    "        break\n",
    "temp.reverse()\n",
    "print(' '.join(map(str, temp))) # 리스트를 문자열로 일정하게 변환해주는 함수\n",
    "    \n"
   ]
  }
 ],
 "metadata": {
  "kernelspec": {
   "display_name": "Python 3",
   "language": "python",
   "name": "python3"
  },
  "language_info": {
   "codemirror_mode": {
    "name": "ipython",
    "version": 3
   },
   "file_extension": ".py",
   "mimetype": "text/x-python",
   "name": "python",
   "nbconvert_exporter": "python",
   "pygments_lexer": "ipython3",
   "version": "3.7.6"
  }
 },
 "nbformat": 4,
 "nbformat_minor": 4
}
