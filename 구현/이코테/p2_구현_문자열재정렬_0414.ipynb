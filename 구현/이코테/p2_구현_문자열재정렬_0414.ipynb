{
 "cells": [
  {
   "cell_type": "markdown",
   "metadata": {},
   "source": [
    "### 문제 설명 \n",
    "알파벳 대문자와 숫자(0~9)로만 구성된 문자열이 입력으로 주어짐  \n",
    "이때 모든 알파벳을 오름차순으로 정렬하여 이어서 출력한 뒤에, 그 뒤에 모든 숫자를 더한 값을 이어서 출력\n",
    " \n",
    "입력 : s (1 ~ 10,000)\n",
    "\n",
    "K1KA5CB7 -> ABCKK13\n",
    "AJKDLSI412K4JSJ9D -> ADDIJJJKKLSS20\n"
   ]
  },
  {
   "cell_type": "code",
   "execution_count": 4,
   "metadata": {},
   "outputs": [
    {
     "name": "stdout",
     "output_type": "stream",
     "text": [
      "AJKDLSI412K4JSJ9D\n",
      "ADDIJJJKKLSS20\n"
     ]
    }
   ],
   "source": [
    "s = input()\n",
    "result= []\n",
    "num =0\n",
    "for i in s:\n",
    "    if i.isalpha():\n",
    "        result.append(i)\n",
    "    else:\n",
    "        num+= int(i)\n",
    "\n",
    "result.sort()\n",
    "\n",
    "if num !=0:\n",
    "    result.append(str(num))\n",
    "print(''.join(result))"
   ]
  }
 ],
 "metadata": {
  "kernelspec": {
   "display_name": "Python 3",
   "language": "python",
   "name": "python3"
  },
  "language_info": {
   "codemirror_mode": {
    "name": "ipython",
    "version": 3
   },
   "file_extension": ".py",
   "mimetype": "text/x-python",
   "name": "python",
   "nbconvert_exporter": "python",
   "pygments_lexer": "ipython3",
   "version": "3.7.6"
  }
 },
 "nbformat": 4,
 "nbformat_minor": 4
}
