{
 "cells": [
  {
   "cell_type": "markdown",
   "metadata": {},
   "source": [
    "### 크루스칼 알고리즘\n",
    "- 그리디 이용하여 모든 정점을 최소 비용으로 연결하는 최적 해당 구하기\n",
    "- 그리디  \n",
    "    - 그 순간에 가장 최적을 선택하여 최종 해답에 도달  \n",
    "    - 그 순간에는 최적이지만, 전체적으로는 최적이 아닐 수 있음  \n",
    "    - but, 크루스칼은 최적 해답을 줌\n",
    "- mst(최소 비용 신장 트리)가   \n",
    "1. 최소 비용의 간선으로 구성  \n",
    "2. 사이클 포함안함  \n",
    ">  사이클 이루지 않는 최소 비용 간선 선택\n",
    "\n",
    "### 동작\n",
    "1. 가중치 오름차순 정렬   \n",
    "2. 정렬된 간선 리스트에서 사이클 형성하지 않는 간선 선택  \n",
    "    - 가장 낮은 가중치 먼저 선택  \n",
    "    - 사이클을 형성하는 간선을 제외  \n",
    "3. 해당 간선을 현재의 mst(최소 비용 신장 트리) 집합에 추가  \n",
    "\n",
    "### 주의\n",
    "- 다음 간선 택하여 집합에 추가될 때, 사이클 생성하는지 체크  \n",
    "    - 추가할 새 간선의 양끝 정점이 같은 집합에 있으면 사이클 형성됨\n",
    "- 사이클 생성 여부 확인  \n",
    "    - union-find 알고리즘 적용   \n",
    "\n",
    "### 시간 복잡도\n",
    "- 이건 나중에 공부하기 \n",
    "\n",
    "### union - find\n",
    "- union : 두 개의 집합을 하나의 집합으로 합치는 연산\n",
    "- find : 루트까지 올라가는 경로 상의 각 노드의 부모 노드를 루트로 갱신  \n",
    "    - > 경로 압축이라고 부른다\n",
    "    \n",
    "\n"
   ]
  },
  {
   "cell_type": "code",
   "execution_count": 3,
   "metadata": {},
   "outputs": [
    {
     "name": "stdout",
     "output_type": "stream",
     "text": [
      "3 3\n",
      "1 2 1\n",
      "2 3 2\n",
      "1 3 3\n",
      "3\n"
     ]
    }
   ],
   "source": [
    "v, e = map(int, input().split())\n",
    "graph = []\n",
    "for i in range(e):\n",
    "    a, b, c = map(int, input().split())\n",
    "    graph.append((a, b, c))\n",
    "graph.sort(key = lambda x: x[2]) #가중치 오름차순 정렬\n",
    "\n",
    "mst = [] # 최소신장 트리 담는 리스트\n",
    "p = [0] # 상호배타적 집합\n",
    "\n",
    "for i in range(1, v+1):\n",
    "    p.append(i) # 각 정점 자신이 집합의 대표\n",
    "\n",
    "def find(u): # 각 노드의 루트 정점 찾기\n",
    "    if u != p[u]:\n",
    "        p[u] = find(p[u]) # 경로 압축\n",
    "    return p[u]\n",
    "\n",
    "def union(u,v):\n",
    "    root1 = find(u)\n",
    "    root2 = find(v)\n",
    "    p[root2] = root1 # 결합. 두변수가 바뀌어도 됨\n",
    "    \n",
    "edges = 0 # 간선 개수\n",
    "cost = 0 # 가중치 합\n",
    "\n",
    "while True:\n",
    "    if edges == v-1: # 크루스칼은 정점-1개의 간선을 선택\n",
    "        break\n",
    "    u, w, t = graph.pop(0) # 오름차순이니까 가중치작은 것부터 pop\n",
    "    if find(u) != find(w): #u와 v가 서로 다른 집합에 속해 있으면\n",
    "        union(u, w)\n",
    "        mst.append((u, w))\n",
    "        cost += t \n",
    "        edges += 1\n",
    "print(cost) # 최소신장트리 가중치 합\n",
    "#  print(mst) # 최소신장트리\n",
    "        "
   ]
  }
 ],
 "metadata": {
  "kernelspec": {
   "display_name": "Python 3",
   "language": "python",
   "name": "python3"
  },
  "language_info": {
   "codemirror_mode": {
    "name": "ipython",
    "version": 3
   },
   "file_extension": ".py",
   "mimetype": "text/x-python",
   "name": "python",
   "nbconvert_exporter": "python",
   "pygments_lexer": "ipython3",
   "version": "3.7.6"
  }
 },
 "nbformat": 4,
 "nbformat_minor": 4
}
