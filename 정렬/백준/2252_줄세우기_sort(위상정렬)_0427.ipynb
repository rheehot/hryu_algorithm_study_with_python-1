{
 "cells": [
  {
   "cell_type": "markdown",
   "metadata": {},
   "source": [
    "### https://sexy-developer.tistory.com/56\n",
    "\n",
    "### 위상 정렬\n",
    "- 어떤 일을 하는 순서를 찾는 알고리즘\n",
    "    - 즉, 방향 그래프에 존재하는 각 정점들의 선행 순서를 위배하지 않으면서  \n",
    "    모든 정점을 나열하는 것\n",
    "### 특징\n",
    "- 하나의 방향 그래프에는 여러개의 위상 정렬이 가능\n",
    "- 위상 정렬의 과정에서 선택되는 정점의 순서를 위상 순서라고 함\n",
    "- 위상 정렬의 과정에서 그래프에 남아있는 정점 중 진입차수가 0인 정점이 없다면, 위상 정렬은 중단되고 이러한 그래프로 표현된 문제는 실행 불가능 문제\n",
    "\n",
    "### 해결\n",
    "큐, 위상순서 리스트 두개 존재\n",
    "1. 진입 차수가 0인 정점 선택\n",
    "    - 진입 차수가 0인 정점 여러 개 존재할 경우, 어느 정점을 선택해도 무방\n",
    "    - 초기에 간선의 수가 0인 모든 정점을 큐에 삽입\n",
    "2. 선택된 정점과 여기에 부속된 모든 간선 삭제\n",
    "    - 선택된 정점 큐에서 삭제\n",
    "    - 선택된 정점에 부속된 모든 간선에 대해 간선의 수 감소\n",
    "3. 위의 과정을 반복해서 모든 정점이 선택, 삭제되면 알고리즘 종료\n",
    "    "
   ]
  },
  {
   "cell_type": "code",
   "execution_count": 4,
   "metadata": {},
   "outputs": [
    {
     "name": "stdout",
     "output_type": "stream",
     "text": [
      "4 2\n",
      "4 2\n",
      "3 1\n",
      "3 4 1 2 "
     ]
    }
   ],
   "source": [
    "# 인접리스트 생성하여 큐로 구현\n",
    "from collections import deque\n",
    "n, m = map(int, input().split())\n",
    "# 모든 노드에 대한 집입차수는 0으로 초기화\n",
    "indegree = [0] * (n+1) \n",
    "graph = [[] for _  in range(n+1)]\n",
    "\n",
    "# 방향 그래프의 모든 간선 정보 입력받기\n",
    "for _ in range(m):\n",
    "    a, b = map(int, input().split())\n",
    "    graph[a].append(b) # 정점 a에서 b로 이동 가능\n",
    "    # 진입 차수 1증가\n",
    "    indegree[b] += 1\n",
    "\n",
    "# 위상 정렬 함수\n",
    "def topology_sort():\n",
    "    result = [] # 알고리즘 수행 결과 담을 리스트\n",
    "    q = deque() # 큐 기능을 위한 deque 라이브러리 사용\n",
    "    \n",
    "    # 처음 시작할 때는 진입차수가 0인 노드 큐에 삽입\n",
    "    for i in range(1, n+1):\n",
    "        if indegree[i] ==0:\n",
    "            q.append(i)\n",
    "    # 큐가 빌떄까지 반복\n",
    "    while q:\n",
    "        now = q.popleft()\n",
    "        result.append(now)\n",
    "        for i in graph[now]:\n",
    "            indegree[i] -= 1\n",
    "            # 새롭게 진입차수가 0이 되는 노드 큐에 삽입\n",
    "            if indegree[i] ==0:\n",
    "                q.append(i)\n",
    "    for i in result:\n",
    "        print(i, end=' ')\n",
    "topology_sort()"
   ]
  }
 ],
 "metadata": {
  "kernelspec": {
   "display_name": "Python 3",
   "language": "python",
   "name": "python3"
  },
  "language_info": {
   "codemirror_mode": {
    "name": "ipython",
    "version": 3
   },
   "file_extension": ".py",
   "mimetype": "text/x-python",
   "name": "python",
   "nbconvert_exporter": "python",
   "pygments_lexer": "ipython3",
   "version": "3.7.6"
  }
 },
 "nbformat": 4,
 "nbformat_minor": 4
}
