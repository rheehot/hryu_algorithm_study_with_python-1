{
 "cells": [
  {
   "cell_type": "code",
   "execution_count": 7,
   "metadata": {},
   "outputs": [
    {
     "name": "stdout",
     "output_type": "stream",
     "text": [
      "100 40021\n",
      "5\n"
     ]
    }
   ],
   "source": [
    "#### bfs -> 노드당분기를 2번씩 한다\n",
    "# 숨바꼭질과 비슷한 유형인듯\n",
    "from collections import deque\n",
    "\n",
    "a, b = map(int, input().split())\n",
    "\n",
    "answer = -1\n",
    "\n",
    "queue = deque([(a,1)])\n",
    "while queue:\n",
    "    v, i = queue.popleft()\n",
    "    if v==b:\n",
    "        answer = i\n",
    "        break\n",
    "    if v*2 <= b:\n",
    "        queue.append((v*2, i+1))\n",
    "    if int(str(v)+ str(1)) <= b:\n",
    "            queue.append((int(str(v)+ str(1)), i+1))\n",
    "print(answer)"
   ]
  },
  {
   "cell_type": "code",
   "execution_count": 5,
   "metadata": {},
   "outputs": [
    {
     "name": "stdout",
     "output_type": "stream",
     "text": [
      "1011\n"
     ]
    }
   ],
   "source": [
    "v = int(10)\n",
    "print(str(v)+str(11))"
   ]
  }
 ],
 "metadata": {
  "kernelspec": {
   "display_name": "Python 3",
   "language": "python",
   "name": "python3"
  },
  "language_info": {
   "codemirror_mode": {
    "name": "ipython",
    "version": 3
   },
   "file_extension": ".py",
   "mimetype": "text/x-python",
   "name": "python",
   "nbconvert_exporter": "python",
   "pygments_lexer": "ipython3",
   "version": "3.7.6"
  }
 },
 "nbformat": 4,
 "nbformat_minor": 4
}
