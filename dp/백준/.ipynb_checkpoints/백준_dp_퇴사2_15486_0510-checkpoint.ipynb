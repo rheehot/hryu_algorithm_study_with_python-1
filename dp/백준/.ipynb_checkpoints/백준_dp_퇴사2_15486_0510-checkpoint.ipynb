{
 "cells": [
  {
   "cell_type": "code",
   "execution_count": 4,
   "metadata": {},
   "outputs": [
    {
     "name": "stdout",
     "output_type": "stream",
     "text": [
      "10\n",
      "5 50\n",
      "4 40\n",
      "3 30\n",
      "2 20\n",
      "1 10\n",
      "1 10\n",
      "2 20\n",
      "3 30\n",
      "4 40\n",
      "5 50\n",
      "90\n"
     ]
    }
   ],
   "source": [
    "# 역순으로 문제를 해결한다\n",
    "n = int(input())\n",
    "t, p = [0]*n, [0]*n\n",
    "for i in range(n):\n",
    "    t[i], p[i] = map(int, input().split())\n",
    "dp = [0]*(n+1)\n",
    "\n",
    "for day in range(n-1, -1, -1):\n",
    "    if t[day] + day <= n:\n",
    "        # 오늘 상담하는 경우 기대값과 내일 상담하는 경우의 기댓값을 비교\n",
    "        dp[day] = max(dp[day+t[day]] + p[day], dp[day+1])\n",
    "    else:\n",
    "        dp[day] = dp[day+ 1]\n",
    "print(dp[0])"
   ]
  }
 ],
 "metadata": {
  "kernelspec": {
   "display_name": "Python 3",
   "language": "python",
   "name": "python3"
  },
  "language_info": {
   "codemirror_mode": {
    "name": "ipython",
    "version": 3
   },
   "file_extension": ".py",
   "mimetype": "text/x-python",
   "name": "python",
   "nbconvert_exporter": "python",
   "pygments_lexer": "ipython3",
   "version": "3.7.6"
  }
 },
 "nbformat": 4,
 "nbformat_minor": 4
}
