{
 "cells": [
  {
   "cell_type": "code",
   "execution_count": 4,
   "metadata": {},
   "outputs": [
    {
     "name": "stdout",
     "output_type": "stream",
     "text": [
      "4 4\n",
      "1 2\n",
      "2 3\n",
      "3 4\n",
      "4 1\n",
      "사이클이 발생했습니다\n"
     ]
    }
   ],
   "source": [
    "\n",
    "def find(parent, x):\n",
    "    if parent[x] != x:\n",
    "        parent[x] = find(parent,parent[x])\n",
    "    return parent[x]\n",
    "\n",
    "def union(parent, a, b):\n",
    "    a = find(parent, a)\n",
    "    b = find(parent, b)\n",
    "    if a<b:\n",
    "        parent[b] = a\n",
    "    else:\n",
    "        parent[a] = b\n",
    "        \n",
    "v, e = map(int, input().split())\n",
    "parent = [0] * (v+1)\n",
    "\n",
    "for i in range(1, v+1):\n",
    "    parent[i] = i\n",
    "    \n",
    "cycle = False # 사이클 발생 여부\n",
    "\n",
    "for i in range(e):\n",
    "    a,b = map(int, input().split())\n",
    "    # 사이클이 발생한 경우 종료\n",
    "    if find(parent, a) == find(parent, b):\n",
    "        cycle =True\n",
    "        break\n",
    "    # 사이클이 발생하지 않았다면, 합집합 연산 수행\n",
    "    else:\n",
    "        union(parent, a, b)\n",
    "\n",
    "        \n",
    "if cycle:\n",
    "    print(\"사이클이 발생했습니다\")\n",
    "else:\n",
    "    print(\"사이클이 발생하지 않았습니다\")\n",
    "        "
   ]
  }
 ],
 "metadata": {
  "kernelspec": {
   "display_name": "Python 3",
   "language": "python",
   "name": "python3"
  },
  "language_info": {
   "codemirror_mode": {
    "name": "ipython",
    "version": 3
   },
   "file_extension": ".py",
   "mimetype": "text/x-python",
   "name": "python",
   "nbconvert_exporter": "python",
   "pygments_lexer": "ipython3",
   "version": "3.7.6"
  }
 },
 "nbformat": 4,
 "nbformat_minor": 4
}
