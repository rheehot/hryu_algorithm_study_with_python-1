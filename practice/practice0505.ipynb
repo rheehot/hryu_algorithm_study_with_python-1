{
 "cells": [
  {
   "cell_type": "code",
   "execution_count": 10,
   "metadata": {},
   "outputs": [
    {
     "name": "stdout",
     "output_type": "stream",
     "text": [
      "1 1\n",
      "0\n",
      "1\n"
     ]
    }
   ],
   "source": [
    "# 숨바꼭질2\n",
    "# 가장 빠른 시간과 그 방법의 수 \n",
    "# bfs -> 분기하는 특징을 이용\n",
    "# 노드를 처음 방문하는 경우와 한 번 이상 방문한 경우\n",
    "\n",
    "from collections import deque\n",
    "max_size = 1000001\n",
    "n, k = map(int, input().split())\n",
    "check = [[-1, 0] for _ in range(max_size)] \n",
    "# check[][0] : 최소시간 / check[][1] : 방법의수 \n",
    "\n",
    "def bfs(n):\n",
    "    queue = deque()\n",
    "    queue.append(n)\n",
    "    check[n][0] = 0\n",
    "    check[n][1] = 1 \n",
    "    \n",
    "    while queue:\n",
    "        v = queue.popleft()\n",
    "        \n",
    "        for i in (v-1, v+1, v*2):\n",
    "            if 0<= i < max_size:\n",
    "                if check[i][0] == -1 : # 처음 들르는 경우\n",
    "                    queue.append(i)\n",
    "                    check[i][0] = check[v][0] + 1\n",
    "                    check[i][1] = check[v][1]\n",
    "                elif check[i][0] == check[v][0] + 1 : # 한번 이상 들르는 경우\n",
    "                    check[i][1] += check[v][1] # 방법 더하기\n",
    "bfs(n)\n",
    "print(check[k][0])\n",
    "print(check[k][1])"
   ]
  },
  {
   "cell_type": "code",
   "execution_count": 12,
   "metadata": {},
   "outputs": [
    {
     "name": "stdout",
     "output_type": "stream",
     "text": [
      "5 17\n",
      "2\n"
     ]
    }
   ],
   "source": [
    "# 숨바꼭질3 \n",
    "# 가장 빠른 시간만\n",
    "from collections import deque\n",
    "\n",
    "n, k = map(int, input().split())\n",
    "max_size = 1000001\n",
    "\n",
    "def bfs():\n",
    "    queue = deque()\n",
    "    queue.append(n)\n",
    "    check = [-1]* max_size # 초기화\n",
    "    check[n] = 0\n",
    "    while queue:\n",
    "        v = queue.popleft()\n",
    "        \n",
    "        if v ==k:\n",
    "            return check[v]\n",
    "        \n",
    "        if 0<= v*2 < max_size and check[v*2]== -1:\n",
    "            check[v*2] = check[v]\n",
    "            queue.append(v*2)\n",
    "        for i in (v-1, v+1):\n",
    "            if 0<= i < max_size and check[i] == -1:\n",
    "                check[i] = check[v] + 1\n",
    "                queue.append(i)\n",
    "                \n",
    "print(bfs())\n",
    "    "
   ]
  },
  {
   "cell_type": "code",
   "execution_count": 13,
   "metadata": {},
   "outputs": [
    {
     "name": "stdout",
     "output_type": "stream",
     "text": [
      "5 17\n",
      "4\n",
      "5 4 8 16 17\n"
     ]
    }
   ],
   "source": [
    "# 숨바꼭질4\n",
    "from collections import deque\n",
    "max_size = 1000001\n",
    "n, k = map(int, input().split())\n",
    "check = [[-1, -1] for _ in range(max_size)] # -1 ~ 100,000\n",
    "\n",
    "def bfs(n):\n",
    "    queue = deque()\n",
    "    queue.append(n)\n",
    "    check[n][0] = 0 # 해당지점에 가는데 걸린 시간\n",
    "    \n",
    "    while queue:\n",
    "        v = queue.popleft()\n",
    "        \n",
    "        if v==k:\n",
    "            return check[k][0]\n",
    "        \n",
    "        for i in (v-1, v+1 , v*2):\n",
    "            if 0<= i < max_size:\n",
    "                if check[i][0] == -1:\n",
    "                    check[i][0] = check[v][0] + 1 # 해당지점에 가는데 걸린시간\n",
    "                    check[i][1] = v # 이전에 방문한 지점, 이것을 통해 어떻게 이동했는지 추적\n",
    "                    queue.append(i)\n",
    "print(bfs(n))\n",
    "\n",
    "temp = []\n",
    "temp.append(k) \n",
    "while True:\n",
    "    if check[k][1] != -1:\n",
    "        temp.append(check[k][1]) # 거꾸로 temp에 담김\n",
    "        k = check[k][1] # 이전에 방문한 지점이 k가 되고 반복\n",
    "    else:\n",
    "        break\n",
    "temp.reverse()\n",
    "print(' '.join(map(str, temp)))\n",
    "           "
   ]
  },
  {
   "cell_type": "code",
   "execution_count": 19,
   "metadata": {},
   "outputs": [
    {
     "name": "stdout",
     "output_type": "stream",
     "text": [
      "18\n",
      "8\n"
     ]
    }
   ],
   "source": [
    "# 이모티콘\n",
    "# bfs + dp\n",
    "# 초기 display = 1 board = 0 count = 0\n",
    "# 1. board = display , count+= 1 -> 보드는 덮어쓰기때문에 화면 임콘 개수\n",
    "# 2. display += board count +=1 -> 화면은 보드+화면 개수만큼 붙여넣기\n",
    "# 3. display -= 1 count += 1 -> 화면 임콘 개수 -1\n",
    "# check[display][board] \n",
    "from collections import deque\n",
    "\n",
    "n = int(input())\n",
    "max_size = 1001\n",
    "check = [[-1]*max_size for _ in range(max_size)]\n",
    "def bfs():\n",
    "    queue = deque()\n",
    "    queue.append((1, 0, 0))\n",
    "    \n",
    "    while queue:\n",
    "        display, board, count = queue.popleft()\n",
    "        \n",
    "        if display == n:\n",
    "            return count\n",
    "        \n",
    "         # 1.화면에서 보드로 저장\n",
    "        if 0 < display < max_size: \n",
    "            if check[display][display] == -1:\n",
    "                check[display][display] = 1\n",
    "#                 count += 1\n",
    "                queue.append((display, display, count+1))\n",
    "                \n",
    "        # 2. 보드에서 화면으로 저장, display + board 몽땅 화면에 저장되기 때문에 비교 필요    \n",
    "        if 0 < board and display + board < max_size : \n",
    "            if check[display+board][board] == -1:\n",
    "                check[display+board][board] = 1\n",
    "                queue.append((display+board, board, count+1))\n",
    "        # 3. display에서 하나 삭제\n",
    "        if check[display-1][board] == -1:\n",
    "            check[display-1][board] =1\n",
    "            queue.append((display-1, board, count+1))\n",
    "\n",
    "print(bfs())"
   ]
  }
 ],
 "metadata": {
  "kernelspec": {
   "display_name": "Python 3",
   "language": "python",
   "name": "python3"
  },
  "language_info": {
   "codemirror_mode": {
    "name": "ipython",
    "version": 3
   },
   "file_extension": ".py",
   "mimetype": "text/x-python",
   "name": "python",
   "nbconvert_exporter": "python",
   "pygments_lexer": "ipython3",
   "version": "3.7.6"
  }
 },
 "nbformat": 4,
 "nbformat_minor": 4
}
